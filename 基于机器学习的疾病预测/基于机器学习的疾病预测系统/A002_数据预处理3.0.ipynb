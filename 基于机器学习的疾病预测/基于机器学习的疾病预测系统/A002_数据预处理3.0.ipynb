{
 "cells": [
  {
   "cell_type": "markdown",
   "metadata": {},
   "source": [
    "### 数据处理\n",
    "1. 重复样本处理<br>\n",
    "2. 异常值检测与处理<br>\n",
    "3. 缺失值检测与处理<br>\n",
    "4. 数据标准化"
   ]
  },
  {
   "cell_type": "markdown",
   "metadata": {},
   "source": [
    "### 特征工程\n",
    "1. 特征选择\n",
    "2. 特征构造 -- 特征选择\n",
    "3. 特征编码"
   ]
  },
  {
   "cell_type": "code",
   "execution_count": 56,
   "metadata": {},
   "outputs": [],
   "source": [
    "import pandas as pd\n",
    "import numpy as np\n",
    "import matplotlib.pyplot as plt\n",
    "import seaborn as sns\n",
    "# import warnings  # 再次导入warnings，可能是为了确保在代码其他部分也能控制警告\n",
    "# warnings.filterwarnings(\"ignore\")  # 忽略警告消息，使输出更清洁\n",
    "\n",
    "# 设置中文字体支持（避免图表中文乱码）\n",
    "plt.rcParams['font.sans-serif'] = ['SimHei'] \n",
    "plt.rcParams['axes.unicode_minus'] = False  # 解决负号显示问题\n",
    "# plt.rcParams['axes.unicode_minus'] = False\n",
    "# sns.set_style('whitegrid') # 设置seaborn风格"
   ]
  },
  {
   "cell_type": "markdown",
   "metadata": {},
   "source": [
    "## 一、数据概况"
   ]
  },
  {
   "cell_type": "code",
   "execution_count": 57,
   "metadata": {},
   "outputs": [],
   "source": [
    "# 读取数据\n",
    "train_data = pd.read_csv('data_set/heart.csv')"
   ]
  },
  {
   "cell_type": "code",
   "execution_count": 58,
   "metadata": {},
   "outputs": [
    {
     "data": {
      "application/vnd.microsoft.datawrangler.viewer.v0+json": {
       "columns": [
        {
         "name": "index",
         "rawType": "int64",
         "type": "integer"
        },
        {
         "name": "Age",
         "rawType": "int64",
         "type": "integer"
        },
        {
         "name": "Sex",
         "rawType": "object",
         "type": "string"
        },
        {
         "name": "ChestPainType",
         "rawType": "object",
         "type": "string"
        },
        {
         "name": "RestingBP",
         "rawType": "int64",
         "type": "integer"
        },
        {
         "name": "Cholesterol",
         "rawType": "int64",
         "type": "integer"
        },
        {
         "name": "FastingBS",
         "rawType": "int64",
         "type": "integer"
        },
        {
         "name": "RestingECG",
         "rawType": "object",
         "type": "string"
        },
        {
         "name": "MaxHR",
         "rawType": "int64",
         "type": "integer"
        },
        {
         "name": "ExerciseAngina",
         "rawType": "object",
         "type": "string"
        },
        {
         "name": "Oldpeak",
         "rawType": "float64",
         "type": "float"
        },
        {
         "name": "ST_Slope",
         "rawType": "object",
         "type": "string"
        },
        {
         "name": "HeartDisease",
         "rawType": "int64",
         "type": "integer"
        }
       ],
       "ref": "23ab4e38-f70c-45b6-845b-c71db873d715",
       "rows": [
        [
         "0",
         "40",
         "M",
         "ATA",
         "140",
         "289",
         "0",
         "Normal",
         "172",
         "N",
         "0.0",
         "Up",
         "0"
        ],
        [
         "1",
         "49",
         "F",
         "NAP",
         "160",
         "180",
         "0",
         "Normal",
         "156",
         "N",
         "1.0",
         "Flat",
         "1"
        ],
        [
         "2",
         "37",
         "M",
         "ATA",
         "130",
         "283",
         "0",
         "ST",
         "98",
         "N",
         "0.0",
         "Up",
         "0"
        ],
        [
         "3",
         "48",
         "F",
         "ASY",
         "138",
         "214",
         "0",
         "Normal",
         "108",
         "Y",
         "1.5",
         "Flat",
         "1"
        ],
        [
         "4",
         "54",
         "M",
         "NAP",
         "150",
         "195",
         "0",
         "Normal",
         "122",
         "N",
         "0.0",
         "Up",
         "0"
        ],
        [
         "5",
         "39",
         "M",
         "NAP",
         "120",
         "339",
         "0",
         "Normal",
         "170",
         "N",
         "0.0",
         "Up",
         "0"
        ],
        [
         "6",
         "45",
         "F",
         "ATA",
         "130",
         "237",
         "0",
         "Normal",
         "170",
         "N",
         "0.0",
         "Up",
         "0"
        ],
        [
         "7",
         "54",
         "M",
         "ATA",
         "110",
         "208",
         "0",
         "Normal",
         "142",
         "N",
         "0.0",
         "Up",
         "0"
        ],
        [
         "8",
         "37",
         "M",
         "ASY",
         "140",
         "207",
         "0",
         "Normal",
         "130",
         "Y",
         "1.5",
         "Flat",
         "1"
        ],
        [
         "9",
         "48",
         "F",
         "ATA",
         "120",
         "284",
         "0",
         "Normal",
         "120",
         "N",
         "0.0",
         "Up",
         "0"
        ],
        [
         "10",
         "37",
         "F",
         "NAP",
         "130",
         "211",
         "0",
         "Normal",
         "142",
         "N",
         "0.0",
         "Up",
         "0"
        ],
        [
         "11",
         "58",
         "M",
         "ATA",
         "136",
         "164",
         "0",
         "ST",
         "99",
         "Y",
         "2.0",
         "Flat",
         "1"
        ],
        [
         "12",
         "39",
         "M",
         "ATA",
         "120",
         "204",
         "0",
         "Normal",
         "145",
         "N",
         "0.0",
         "Up",
         "0"
        ],
        [
         "13",
         "49",
         "M",
         "ASY",
         "140",
         "234",
         "0",
         "Normal",
         "140",
         "Y",
         "1.0",
         "Flat",
         "1"
        ],
        [
         "14",
         "42",
         "F",
         "NAP",
         "115",
         "211",
         "0",
         "ST",
         "137",
         "N",
         "0.0",
         "Up",
         "0"
        ],
        [
         "15",
         "54",
         "F",
         "ATA",
         "120",
         "273",
         "0",
         "Normal",
         "150",
         "N",
         "1.5",
         "Flat",
         "0"
        ],
        [
         "16",
         "38",
         "M",
         "ASY",
         "110",
         "196",
         "0",
         "Normal",
         "166",
         "N",
         "0.0",
         "Flat",
         "1"
        ],
        [
         "17",
         "43",
         "F",
         "ATA",
         "120",
         "201",
         "0",
         "Normal",
         "165",
         "N",
         "0.0",
         "Up",
         "0"
        ],
        [
         "18",
         "60",
         "M",
         "ASY",
         "100",
         "248",
         "0",
         "Normal",
         "125",
         "N",
         "1.0",
         "Flat",
         "1"
        ],
        [
         "19",
         "36",
         "M",
         "ATA",
         "120",
         "267",
         "0",
         "Normal",
         "160",
         "N",
         "3.0",
         "Flat",
         "1"
        ],
        [
         "20",
         "43",
         "F",
         "TA",
         "100",
         "223",
         "0",
         "Normal",
         "142",
         "N",
         "0.0",
         "Up",
         "0"
        ],
        [
         "21",
         "44",
         "M",
         "ATA",
         "120",
         "184",
         "0",
         "Normal",
         "142",
         "N",
         "1.0",
         "Flat",
         "0"
        ],
        [
         "22",
         "49",
         "F",
         "ATA",
         "124",
         "201",
         "0",
         "Normal",
         "164",
         "N",
         "0.0",
         "Up",
         "0"
        ],
        [
         "23",
         "44",
         "M",
         "ATA",
         "150",
         "288",
         "0",
         "Normal",
         "150",
         "Y",
         "3.0",
         "Flat",
         "1"
        ],
        [
         "24",
         "40",
         "M",
         "NAP",
         "130",
         "215",
         "0",
         "Normal",
         "138",
         "N",
         "0.0",
         "Up",
         "0"
        ],
        [
         "25",
         "36",
         "M",
         "NAP",
         "130",
         "209",
         "0",
         "Normal",
         "178",
         "N",
         "0.0",
         "Up",
         "0"
        ],
        [
         "26",
         "53",
         "M",
         "ASY",
         "124",
         "260",
         "0",
         "ST",
         "112",
         "Y",
         "3.0",
         "Flat",
         "0"
        ],
        [
         "27",
         "52",
         "M",
         "ATA",
         "120",
         "284",
         "0",
         "Normal",
         "118",
         "N",
         "0.0",
         "Up",
         "0"
        ],
        [
         "28",
         "53",
         "F",
         "ATA",
         "113",
         "468",
         "0",
         "Normal",
         "127",
         "N",
         "0.0",
         "Up",
         "0"
        ],
        [
         "29",
         "51",
         "M",
         "ATA",
         "125",
         "188",
         "0",
         "Normal",
         "145",
         "N",
         "0.0",
         "Up",
         "0"
        ],
        [
         "30",
         "53",
         "M",
         "NAP",
         "145",
         "518",
         "0",
         "Normal",
         "130",
         "N",
         "0.0",
         "Flat",
         "1"
        ],
        [
         "31",
         "56",
         "M",
         "NAP",
         "130",
         "167",
         "0",
         "Normal",
         "114",
         "N",
         "0.0",
         "Up",
         "0"
        ],
        [
         "32",
         "54",
         "M",
         "ASY",
         "125",
         "224",
         "0",
         "Normal",
         "122",
         "N",
         "2.0",
         "Flat",
         "1"
        ],
        [
         "33",
         "41",
         "M",
         "ASY",
         "130",
         "172",
         "0",
         "ST",
         "130",
         "N",
         "2.0",
         "Flat",
         "1"
        ],
        [
         "34",
         "43",
         "F",
         "ATA",
         "150",
         "186",
         "0",
         "Normal",
         "154",
         "N",
         "0.0",
         "Up",
         "0"
        ],
        [
         "35",
         "32",
         "M",
         "ATA",
         "125",
         "254",
         "0",
         "Normal",
         "155",
         "N",
         "0.0",
         "Up",
         "0"
        ],
        [
         "36",
         "65",
         "M",
         "ASY",
         "140",
         "306",
         "1",
         "Normal",
         "87",
         "Y",
         "1.5",
         "Flat",
         "1"
        ],
        [
         "37",
         "41",
         "F",
         "ATA",
         "110",
         "250",
         "0",
         "ST",
         "142",
         "N",
         "0.0",
         "Up",
         "0"
        ],
        [
         "38",
         "48",
         "F",
         "ATA",
         "120",
         "177",
         "1",
         "ST",
         "148",
         "N",
         "0.0",
         "Up",
         "0"
        ],
        [
         "39",
         "48",
         "F",
         "ASY",
         "150",
         "227",
         "0",
         "Normal",
         "130",
         "Y",
         "1.0",
         "Flat",
         "0"
        ],
        [
         "40",
         "54",
         "F",
         "ATA",
         "150",
         "230",
         "0",
         "Normal",
         "130",
         "N",
         "0.0",
         "Up",
         "0"
        ],
        [
         "41",
         "54",
         "F",
         "NAP",
         "130",
         "294",
         "0",
         "ST",
         "100",
         "Y",
         "0.0",
         "Flat",
         "1"
        ],
        [
         "42",
         "35",
         "M",
         "ATA",
         "150",
         "264",
         "0",
         "Normal",
         "168",
         "N",
         "0.0",
         "Up",
         "0"
        ],
        [
         "43",
         "52",
         "M",
         "NAP",
         "140",
         "259",
         "0",
         "ST",
         "170",
         "N",
         "0.0",
         "Up",
         "0"
        ],
        [
         "44",
         "43",
         "M",
         "ASY",
         "120",
         "175",
         "0",
         "Normal",
         "120",
         "Y",
         "1.0",
         "Flat",
         "1"
        ],
        [
         "45",
         "59",
         "M",
         "NAP",
         "130",
         "318",
         "0",
         "Normal",
         "120",
         "Y",
         "1.0",
         "Flat",
         "0"
        ],
        [
         "46",
         "37",
         "M",
         "ASY",
         "120",
         "223",
         "0",
         "Normal",
         "168",
         "N",
         "0.0",
         "Up",
         "0"
        ],
        [
         "47",
         "50",
         "M",
         "ATA",
         "140",
         "216",
         "0",
         "Normal",
         "170",
         "N",
         "0.0",
         "Up",
         "0"
        ],
        [
         "48",
         "36",
         "M",
         "NAP",
         "112",
         "340",
         "0",
         "Normal",
         "184",
         "N",
         "1.0",
         "Flat",
         "0"
        ],
        [
         "49",
         "41",
         "M",
         "ASY",
         "110",
         "289",
         "0",
         "Normal",
         "170",
         "N",
         "0.0",
         "Flat",
         "1"
        ]
       ],
       "shape": {
        "columns": 12,
        "rows": 918
       }
      },
      "text/html": [
       "<div>\n",
       "<style scoped>\n",
       "    .dataframe tbody tr th:only-of-type {\n",
       "        vertical-align: middle;\n",
       "    }\n",
       "\n",
       "    .dataframe tbody tr th {\n",
       "        vertical-align: top;\n",
       "    }\n",
       "\n",
       "    .dataframe thead th {\n",
       "        text-align: right;\n",
       "    }\n",
       "</style>\n",
       "<table border=\"1\" class=\"dataframe\">\n",
       "  <thead>\n",
       "    <tr style=\"text-align: right;\">\n",
       "      <th></th>\n",
       "      <th>Age</th>\n",
       "      <th>Sex</th>\n",
       "      <th>ChestPainType</th>\n",
       "      <th>RestingBP</th>\n",
       "      <th>Cholesterol</th>\n",
       "      <th>FastingBS</th>\n",
       "      <th>RestingECG</th>\n",
       "      <th>MaxHR</th>\n",
       "      <th>ExerciseAngina</th>\n",
       "      <th>Oldpeak</th>\n",
       "      <th>ST_Slope</th>\n",
       "      <th>HeartDisease</th>\n",
       "    </tr>\n",
       "  </thead>\n",
       "  <tbody>\n",
       "    <tr>\n",
       "      <th>0</th>\n",
       "      <td>40</td>\n",
       "      <td>M</td>\n",
       "      <td>ATA</td>\n",
       "      <td>140</td>\n",
       "      <td>289</td>\n",
       "      <td>0</td>\n",
       "      <td>Normal</td>\n",
       "      <td>172</td>\n",
       "      <td>N</td>\n",
       "      <td>0.0</td>\n",
       "      <td>Up</td>\n",
       "      <td>0</td>\n",
       "    </tr>\n",
       "    <tr>\n",
       "      <th>1</th>\n",
       "      <td>49</td>\n",
       "      <td>F</td>\n",
       "      <td>NAP</td>\n",
       "      <td>160</td>\n",
       "      <td>180</td>\n",
       "      <td>0</td>\n",
       "      <td>Normal</td>\n",
       "      <td>156</td>\n",
       "      <td>N</td>\n",
       "      <td>1.0</td>\n",
       "      <td>Flat</td>\n",
       "      <td>1</td>\n",
       "    </tr>\n",
       "    <tr>\n",
       "      <th>2</th>\n",
       "      <td>37</td>\n",
       "      <td>M</td>\n",
       "      <td>ATA</td>\n",
       "      <td>130</td>\n",
       "      <td>283</td>\n",
       "      <td>0</td>\n",
       "      <td>ST</td>\n",
       "      <td>98</td>\n",
       "      <td>N</td>\n",
       "      <td>0.0</td>\n",
       "      <td>Up</td>\n",
       "      <td>0</td>\n",
       "    </tr>\n",
       "    <tr>\n",
       "      <th>3</th>\n",
       "      <td>48</td>\n",
       "      <td>F</td>\n",
       "      <td>ASY</td>\n",
       "      <td>138</td>\n",
       "      <td>214</td>\n",
       "      <td>0</td>\n",
       "      <td>Normal</td>\n",
       "      <td>108</td>\n",
       "      <td>Y</td>\n",
       "      <td>1.5</td>\n",
       "      <td>Flat</td>\n",
       "      <td>1</td>\n",
       "    </tr>\n",
       "    <tr>\n",
       "      <th>4</th>\n",
       "      <td>54</td>\n",
       "      <td>M</td>\n",
       "      <td>NAP</td>\n",
       "      <td>150</td>\n",
       "      <td>195</td>\n",
       "      <td>0</td>\n",
       "      <td>Normal</td>\n",
       "      <td>122</td>\n",
       "      <td>N</td>\n",
       "      <td>0.0</td>\n",
       "      <td>Up</td>\n",
       "      <td>0</td>\n",
       "    </tr>\n",
       "    <tr>\n",
       "      <th>...</th>\n",
       "      <td>...</td>\n",
       "      <td>...</td>\n",
       "      <td>...</td>\n",
       "      <td>...</td>\n",
       "      <td>...</td>\n",
       "      <td>...</td>\n",
       "      <td>...</td>\n",
       "      <td>...</td>\n",
       "      <td>...</td>\n",
       "      <td>...</td>\n",
       "      <td>...</td>\n",
       "      <td>...</td>\n",
       "    </tr>\n",
       "    <tr>\n",
       "      <th>913</th>\n",
       "      <td>45</td>\n",
       "      <td>M</td>\n",
       "      <td>TA</td>\n",
       "      <td>110</td>\n",
       "      <td>264</td>\n",
       "      <td>0</td>\n",
       "      <td>Normal</td>\n",
       "      <td>132</td>\n",
       "      <td>N</td>\n",
       "      <td>1.2</td>\n",
       "      <td>Flat</td>\n",
       "      <td>1</td>\n",
       "    </tr>\n",
       "    <tr>\n",
       "      <th>914</th>\n",
       "      <td>68</td>\n",
       "      <td>M</td>\n",
       "      <td>ASY</td>\n",
       "      <td>144</td>\n",
       "      <td>193</td>\n",
       "      <td>1</td>\n",
       "      <td>Normal</td>\n",
       "      <td>141</td>\n",
       "      <td>N</td>\n",
       "      <td>3.4</td>\n",
       "      <td>Flat</td>\n",
       "      <td>1</td>\n",
       "    </tr>\n",
       "    <tr>\n",
       "      <th>915</th>\n",
       "      <td>57</td>\n",
       "      <td>M</td>\n",
       "      <td>ASY</td>\n",
       "      <td>130</td>\n",
       "      <td>131</td>\n",
       "      <td>0</td>\n",
       "      <td>Normal</td>\n",
       "      <td>115</td>\n",
       "      <td>Y</td>\n",
       "      <td>1.2</td>\n",
       "      <td>Flat</td>\n",
       "      <td>1</td>\n",
       "    </tr>\n",
       "    <tr>\n",
       "      <th>916</th>\n",
       "      <td>57</td>\n",
       "      <td>F</td>\n",
       "      <td>ATA</td>\n",
       "      <td>130</td>\n",
       "      <td>236</td>\n",
       "      <td>0</td>\n",
       "      <td>LVH</td>\n",
       "      <td>174</td>\n",
       "      <td>N</td>\n",
       "      <td>0.0</td>\n",
       "      <td>Flat</td>\n",
       "      <td>1</td>\n",
       "    </tr>\n",
       "    <tr>\n",
       "      <th>917</th>\n",
       "      <td>38</td>\n",
       "      <td>M</td>\n",
       "      <td>NAP</td>\n",
       "      <td>138</td>\n",
       "      <td>175</td>\n",
       "      <td>0</td>\n",
       "      <td>Normal</td>\n",
       "      <td>173</td>\n",
       "      <td>N</td>\n",
       "      <td>0.0</td>\n",
       "      <td>Up</td>\n",
       "      <td>0</td>\n",
       "    </tr>\n",
       "  </tbody>\n",
       "</table>\n",
       "<p>918 rows × 12 columns</p>\n",
       "</div>"
      ],
      "text/plain": [
       "     Age Sex ChestPainType  RestingBP  Cholesterol  FastingBS RestingECG  \\\n",
       "0     40   M           ATA        140          289          0     Normal   \n",
       "1     49   F           NAP        160          180          0     Normal   \n",
       "2     37   M           ATA        130          283          0         ST   \n",
       "3     48   F           ASY        138          214          0     Normal   \n",
       "4     54   M           NAP        150          195          0     Normal   \n",
       "..   ...  ..           ...        ...          ...        ...        ...   \n",
       "913   45   M            TA        110          264          0     Normal   \n",
       "914   68   M           ASY        144          193          1     Normal   \n",
       "915   57   M           ASY        130          131          0     Normal   \n",
       "916   57   F           ATA        130          236          0        LVH   \n",
       "917   38   M           NAP        138          175          0     Normal   \n",
       "\n",
       "     MaxHR ExerciseAngina  Oldpeak ST_Slope  HeartDisease  \n",
       "0      172              N      0.0       Up             0  \n",
       "1      156              N      1.0     Flat             1  \n",
       "2       98              N      0.0       Up             0  \n",
       "3      108              Y      1.5     Flat             1  \n",
       "4      122              N      0.0       Up             0  \n",
       "..     ...            ...      ...      ...           ...  \n",
       "913    132              N      1.2     Flat             1  \n",
       "914    141              N      3.4     Flat             1  \n",
       "915    115              Y      1.2     Flat             1  \n",
       "916    174              N      0.0     Flat             1  \n",
       "917    173              N      0.0       Up             0  \n",
       "\n",
       "[918 rows x 12 columns]"
      ]
     },
     "execution_count": 58,
     "metadata": {},
     "output_type": "execute_result"
    }
   ],
   "source": [
    "train_data"
   ]
  },
  {
   "cell_type": "code",
   "execution_count": 59,
   "metadata": {},
   "outputs": [
    {
     "name": "stdout",
     "output_type": "stream",
     "text": [
      "数据基本信息：\n",
      "<class 'pandas.core.frame.DataFrame'>\n",
      "RangeIndex: 918 entries, 0 to 917\n",
      "Data columns (total 12 columns):\n",
      " #   Column          Non-Null Count  Dtype  \n",
      "---  ------          --------------  -----  \n",
      " 0   Age             918 non-null    int64  \n",
      " 1   Sex             918 non-null    object \n",
      " 2   ChestPainType   918 non-null    object \n",
      " 3   RestingBP       918 non-null    int64  \n",
      " 4   Cholesterol     918 non-null    int64  \n",
      " 5   FastingBS       918 non-null    int64  \n",
      " 6   RestingECG      918 non-null    object \n",
      " 7   MaxHR           918 non-null    int64  \n",
      " 8   ExerciseAngina  918 non-null    object \n",
      " 9   Oldpeak         918 non-null    float64\n",
      " 10  ST_Slope        918 non-null    object \n",
      " 11  HeartDisease    918 non-null    int64  \n",
      "dtypes: float64(1), int64(6), object(5)\n",
      "memory usage: 86.2+ KB\n"
     ]
    }
   ],
   "source": [
    "print('数据基本信息：')\n",
    "train_data.info()"
   ]
  },
  {
   "cell_type": "code",
   "execution_count": 60,
   "metadata": {},
   "outputs": [
    {
     "name": "stdout",
     "output_type": "stream",
     "text": [
      "样本数量: 918\n",
      "特征数量: 12\n"
     ]
    }
   ],
   "source": [
    "# 查看数据集行数和列数\n",
    "rows, columns = train_data.shape\n",
    "print(f\"样本数量: {rows}\")\n",
    "print(f\"特征数量: {columns}\")"
   ]
  },
  {
   "cell_type": "code",
   "execution_count": 61,
   "metadata": {},
   "outputs": [
    {
     "name": "stdout",
     "output_type": "stream",
     "text": [
      "\n",
      "数据类型分布：\n"
     ]
    },
    {
     "data": {
      "application/vnd.microsoft.datawrangler.viewer.v0+json": {
       "columns": [
        {
         "name": "index",
         "rawType": "object",
         "type": "unknown"
        },
        {
         "name": "count",
         "rawType": "int64",
         "type": "integer"
        }
       ],
       "ref": "8681365d-4b6b-4d56-b1d0-8a5f00eee479",
       "rows": [
        [
         "int64",
         "6"
        ],
        [
         "object",
         "5"
        ],
        [
         "float64",
         "1"
        ]
       ],
       "shape": {
        "columns": 1,
        "rows": 3
       }
      },
      "text/plain": [
       "int64      6\n",
       "object     5\n",
       "float64    1\n",
       "Name: count, dtype: int64"
      ]
     },
     "execution_count": 61,
     "metadata": {},
     "output_type": "execute_result"
    }
   ],
   "source": [
    "print(\"\\n数据类型分布：\")\n",
    "train_data.dtypes.value_counts()"
   ]
  },
  {
   "cell_type": "code",
   "execution_count": 62,
   "metadata": {},
   "outputs": [
    {
     "name": "stdout",
     "output_type": "stream",
     "text": [
      "前10行数据:\n"
     ]
    },
    {
     "data": {
      "application/vnd.microsoft.datawrangler.viewer.v0+json": {
       "columns": [
        {
         "name": "index",
         "rawType": "int64",
         "type": "integer"
        },
        {
         "name": "Age",
         "rawType": "int64",
         "type": "integer"
        },
        {
         "name": "Sex",
         "rawType": "object",
         "type": "string"
        },
        {
         "name": "ChestPainType",
         "rawType": "object",
         "type": "string"
        },
        {
         "name": "RestingBP",
         "rawType": "int64",
         "type": "integer"
        },
        {
         "name": "Cholesterol",
         "rawType": "int64",
         "type": "integer"
        },
        {
         "name": "FastingBS",
         "rawType": "int64",
         "type": "integer"
        },
        {
         "name": "RestingECG",
         "rawType": "object",
         "type": "string"
        },
        {
         "name": "MaxHR",
         "rawType": "int64",
         "type": "integer"
        },
        {
         "name": "ExerciseAngina",
         "rawType": "object",
         "type": "string"
        },
        {
         "name": "Oldpeak",
         "rawType": "float64",
         "type": "float"
        },
        {
         "name": "ST_Slope",
         "rawType": "object",
         "type": "string"
        },
        {
         "name": "HeartDisease",
         "rawType": "int64",
         "type": "integer"
        }
       ],
       "ref": "c7f8d641-badc-42ae-8ec8-3d0d70a68c49",
       "rows": [
        [
         "0",
         "40",
         "M",
         "ATA",
         "140",
         "289",
         "0",
         "Normal",
         "172",
         "N",
         "0.0",
         "Up",
         "0"
        ],
        [
         "1",
         "49",
         "F",
         "NAP",
         "160",
         "180",
         "0",
         "Normal",
         "156",
         "N",
         "1.0",
         "Flat",
         "1"
        ],
        [
         "2",
         "37",
         "M",
         "ATA",
         "130",
         "283",
         "0",
         "ST",
         "98",
         "N",
         "0.0",
         "Up",
         "0"
        ],
        [
         "3",
         "48",
         "F",
         "ASY",
         "138",
         "214",
         "0",
         "Normal",
         "108",
         "Y",
         "1.5",
         "Flat",
         "1"
        ],
        [
         "4",
         "54",
         "M",
         "NAP",
         "150",
         "195",
         "0",
         "Normal",
         "122",
         "N",
         "0.0",
         "Up",
         "0"
        ],
        [
         "5",
         "39",
         "M",
         "NAP",
         "120",
         "339",
         "0",
         "Normal",
         "170",
         "N",
         "0.0",
         "Up",
         "0"
        ],
        [
         "6",
         "45",
         "F",
         "ATA",
         "130",
         "237",
         "0",
         "Normal",
         "170",
         "N",
         "0.0",
         "Up",
         "0"
        ],
        [
         "7",
         "54",
         "M",
         "ATA",
         "110",
         "208",
         "0",
         "Normal",
         "142",
         "N",
         "0.0",
         "Up",
         "0"
        ],
        [
         "8",
         "37",
         "M",
         "ASY",
         "140",
         "207",
         "0",
         "Normal",
         "130",
         "Y",
         "1.5",
         "Flat",
         "1"
        ],
        [
         "9",
         "48",
         "F",
         "ATA",
         "120",
         "284",
         "0",
         "Normal",
         "120",
         "N",
         "0.0",
         "Up",
         "0"
        ]
       ],
       "shape": {
        "columns": 12,
        "rows": 10
       }
      },
      "text/html": [
       "<div>\n",
       "<style scoped>\n",
       "    .dataframe tbody tr th:only-of-type {\n",
       "        vertical-align: middle;\n",
       "    }\n",
       "\n",
       "    .dataframe tbody tr th {\n",
       "        vertical-align: top;\n",
       "    }\n",
       "\n",
       "    .dataframe thead th {\n",
       "        text-align: right;\n",
       "    }\n",
       "</style>\n",
       "<table border=\"1\" class=\"dataframe\">\n",
       "  <thead>\n",
       "    <tr style=\"text-align: right;\">\n",
       "      <th></th>\n",
       "      <th>Age</th>\n",
       "      <th>Sex</th>\n",
       "      <th>ChestPainType</th>\n",
       "      <th>RestingBP</th>\n",
       "      <th>Cholesterol</th>\n",
       "      <th>FastingBS</th>\n",
       "      <th>RestingECG</th>\n",
       "      <th>MaxHR</th>\n",
       "      <th>ExerciseAngina</th>\n",
       "      <th>Oldpeak</th>\n",
       "      <th>ST_Slope</th>\n",
       "      <th>HeartDisease</th>\n",
       "    </tr>\n",
       "  </thead>\n",
       "  <tbody>\n",
       "    <tr>\n",
       "      <th>0</th>\n",
       "      <td>40</td>\n",
       "      <td>M</td>\n",
       "      <td>ATA</td>\n",
       "      <td>140</td>\n",
       "      <td>289</td>\n",
       "      <td>0</td>\n",
       "      <td>Normal</td>\n",
       "      <td>172</td>\n",
       "      <td>N</td>\n",
       "      <td>0.0</td>\n",
       "      <td>Up</td>\n",
       "      <td>0</td>\n",
       "    </tr>\n",
       "    <tr>\n",
       "      <th>1</th>\n",
       "      <td>49</td>\n",
       "      <td>F</td>\n",
       "      <td>NAP</td>\n",
       "      <td>160</td>\n",
       "      <td>180</td>\n",
       "      <td>0</td>\n",
       "      <td>Normal</td>\n",
       "      <td>156</td>\n",
       "      <td>N</td>\n",
       "      <td>1.0</td>\n",
       "      <td>Flat</td>\n",
       "      <td>1</td>\n",
       "    </tr>\n",
       "    <tr>\n",
       "      <th>2</th>\n",
       "      <td>37</td>\n",
       "      <td>M</td>\n",
       "      <td>ATA</td>\n",
       "      <td>130</td>\n",
       "      <td>283</td>\n",
       "      <td>0</td>\n",
       "      <td>ST</td>\n",
       "      <td>98</td>\n",
       "      <td>N</td>\n",
       "      <td>0.0</td>\n",
       "      <td>Up</td>\n",
       "      <td>0</td>\n",
       "    </tr>\n",
       "    <tr>\n",
       "      <th>3</th>\n",
       "      <td>48</td>\n",
       "      <td>F</td>\n",
       "      <td>ASY</td>\n",
       "      <td>138</td>\n",
       "      <td>214</td>\n",
       "      <td>0</td>\n",
       "      <td>Normal</td>\n",
       "      <td>108</td>\n",
       "      <td>Y</td>\n",
       "      <td>1.5</td>\n",
       "      <td>Flat</td>\n",
       "      <td>1</td>\n",
       "    </tr>\n",
       "    <tr>\n",
       "      <th>4</th>\n",
       "      <td>54</td>\n",
       "      <td>M</td>\n",
       "      <td>NAP</td>\n",
       "      <td>150</td>\n",
       "      <td>195</td>\n",
       "      <td>0</td>\n",
       "      <td>Normal</td>\n",
       "      <td>122</td>\n",
       "      <td>N</td>\n",
       "      <td>0.0</td>\n",
       "      <td>Up</td>\n",
       "      <td>0</td>\n",
       "    </tr>\n",
       "    <tr>\n",
       "      <th>5</th>\n",
       "      <td>39</td>\n",
       "      <td>M</td>\n",
       "      <td>NAP</td>\n",
       "      <td>120</td>\n",
       "      <td>339</td>\n",
       "      <td>0</td>\n",
       "      <td>Normal</td>\n",
       "      <td>170</td>\n",
       "      <td>N</td>\n",
       "      <td>0.0</td>\n",
       "      <td>Up</td>\n",
       "      <td>0</td>\n",
       "    </tr>\n",
       "    <tr>\n",
       "      <th>6</th>\n",
       "      <td>45</td>\n",
       "      <td>F</td>\n",
       "      <td>ATA</td>\n",
       "      <td>130</td>\n",
       "      <td>237</td>\n",
       "      <td>0</td>\n",
       "      <td>Normal</td>\n",
       "      <td>170</td>\n",
       "      <td>N</td>\n",
       "      <td>0.0</td>\n",
       "      <td>Up</td>\n",
       "      <td>0</td>\n",
       "    </tr>\n",
       "    <tr>\n",
       "      <th>7</th>\n",
       "      <td>54</td>\n",
       "      <td>M</td>\n",
       "      <td>ATA</td>\n",
       "      <td>110</td>\n",
       "      <td>208</td>\n",
       "      <td>0</td>\n",
       "      <td>Normal</td>\n",
       "      <td>142</td>\n",
       "      <td>N</td>\n",
       "      <td>0.0</td>\n",
       "      <td>Up</td>\n",
       "      <td>0</td>\n",
       "    </tr>\n",
       "    <tr>\n",
       "      <th>8</th>\n",
       "      <td>37</td>\n",
       "      <td>M</td>\n",
       "      <td>ASY</td>\n",
       "      <td>140</td>\n",
       "      <td>207</td>\n",
       "      <td>0</td>\n",
       "      <td>Normal</td>\n",
       "      <td>130</td>\n",
       "      <td>Y</td>\n",
       "      <td>1.5</td>\n",
       "      <td>Flat</td>\n",
       "      <td>1</td>\n",
       "    </tr>\n",
       "    <tr>\n",
       "      <th>9</th>\n",
       "      <td>48</td>\n",
       "      <td>F</td>\n",
       "      <td>ATA</td>\n",
       "      <td>120</td>\n",
       "      <td>284</td>\n",
       "      <td>0</td>\n",
       "      <td>Normal</td>\n",
       "      <td>120</td>\n",
       "      <td>N</td>\n",
       "      <td>0.0</td>\n",
       "      <td>Up</td>\n",
       "      <td>0</td>\n",
       "    </tr>\n",
       "  </tbody>\n",
       "</table>\n",
       "</div>"
      ],
      "text/plain": [
       "   Age Sex ChestPainType  RestingBP  Cholesterol  FastingBS RestingECG  MaxHR  \\\n",
       "0   40   M           ATA        140          289          0     Normal    172   \n",
       "1   49   F           NAP        160          180          0     Normal    156   \n",
       "2   37   M           ATA        130          283          0         ST     98   \n",
       "3   48   F           ASY        138          214          0     Normal    108   \n",
       "4   54   M           NAP        150          195          0     Normal    122   \n",
       "5   39   M           NAP        120          339          0     Normal    170   \n",
       "6   45   F           ATA        130          237          0     Normal    170   \n",
       "7   54   M           ATA        110          208          0     Normal    142   \n",
       "8   37   M           ASY        140          207          0     Normal    130   \n",
       "9   48   F           ATA        120          284          0     Normal    120   \n",
       "\n",
       "  ExerciseAngina  Oldpeak ST_Slope  HeartDisease  \n",
       "0              N      0.0       Up             0  \n",
       "1              N      1.0     Flat             1  \n",
       "2              N      0.0       Up             0  \n",
       "3              Y      1.5     Flat             1  \n",
       "4              N      0.0       Up             0  \n",
       "5              N      0.0       Up             0  \n",
       "6              N      0.0       Up             0  \n",
       "7              N      0.0       Up             0  \n",
       "8              Y      1.5     Flat             1  \n",
       "9              N      0.0       Up             0  "
      ]
     },
     "execution_count": 62,
     "metadata": {},
     "output_type": "execute_result"
    }
   ],
   "source": [
    "print(\"前10行数据:\")\n",
    "train_data.head(10)"
   ]
  },
  {
   "cell_type": "code",
   "execution_count": 63,
   "metadata": {},
   "outputs": [
    {
     "data": {
      "application/vnd.microsoft.datawrangler.viewer.v0+json": {
       "columns": [
        {
         "name": "index",
         "rawType": "object",
         "type": "string"
        },
        {
         "name": "Age",
         "rawType": "float64",
         "type": "float"
        },
        {
         "name": "Sex",
         "rawType": "object",
         "type": "unknown"
        },
        {
         "name": "ChestPainType",
         "rawType": "object",
         "type": "unknown"
        },
        {
         "name": "RestingBP",
         "rawType": "float64",
         "type": "float"
        },
        {
         "name": "Cholesterol",
         "rawType": "float64",
         "type": "float"
        },
        {
         "name": "FastingBS",
         "rawType": "float64",
         "type": "float"
        },
        {
         "name": "RestingECG",
         "rawType": "object",
         "type": "unknown"
        },
        {
         "name": "MaxHR",
         "rawType": "float64",
         "type": "float"
        },
        {
         "name": "ExerciseAngina",
         "rawType": "object",
         "type": "unknown"
        },
        {
         "name": "Oldpeak",
         "rawType": "float64",
         "type": "float"
        },
        {
         "name": "ST_Slope",
         "rawType": "object",
         "type": "unknown"
        },
        {
         "name": "HeartDisease",
         "rawType": "float64",
         "type": "float"
        }
       ],
       "ref": "167f3abd-0d04-4e69-8192-0025621e10c6",
       "rows": [
        [
         "count",
         "918.0",
         "918",
         "918",
         "918.0",
         "918.0",
         "918.0",
         "918",
         "918.0",
         "918",
         "918.0",
         "918",
         "918.0"
        ],
        [
         "unique",
         null,
         "2",
         "4",
         null,
         null,
         null,
         "3",
         null,
         "2",
         null,
         "3",
         null
        ],
        [
         "top",
         null,
         "M",
         "ASY",
         null,
         null,
         null,
         "Normal",
         null,
         "N",
         null,
         "Flat",
         null
        ],
        [
         "freq",
         null,
         "725",
         "496",
         null,
         null,
         null,
         "552",
         null,
         "547",
         null,
         "460",
         null
        ],
        [
         "mean",
         "53.510893246187365",
         null,
         null,
         "132.39651416122004",
         "198.7995642701525",
         "0.23311546840958605",
         null,
         "136.80936819172112",
         null,
         "0.8873638344226579",
         null,
         "0.5533769063180828"
        ],
        [
         "std",
         "9.432616506732007",
         null,
         null,
         "18.514154119907808",
         "109.38414455220337",
         "0.423045624739302",
         null,
         "25.460334138250293",
         null,
         "1.0665701510493233",
         null,
         "0.4974137382845986"
        ],
        [
         "min",
         "28.0",
         null,
         null,
         "0.0",
         "0.0",
         "0.0",
         null,
         "60.0",
         null,
         "-2.6",
         null,
         "0.0"
        ],
        [
         "25%",
         "47.0",
         null,
         null,
         "120.0",
         "173.25",
         "0.0",
         null,
         "120.0",
         null,
         "0.0",
         null,
         "0.0"
        ],
        [
         "50%",
         "54.0",
         null,
         null,
         "130.0",
         "223.0",
         "0.0",
         null,
         "138.0",
         null,
         "0.6",
         null,
         "1.0"
        ],
        [
         "75%",
         "60.0",
         null,
         null,
         "140.0",
         "267.0",
         "0.0",
         null,
         "156.0",
         null,
         "1.5",
         null,
         "1.0"
        ],
        [
         "max",
         "77.0",
         null,
         null,
         "200.0",
         "603.0",
         "1.0",
         null,
         "202.0",
         null,
         "6.2",
         null,
         "1.0"
        ]
       ],
       "shape": {
        "columns": 12,
        "rows": 11
       }
      },
      "text/html": [
       "<div>\n",
       "<style scoped>\n",
       "    .dataframe tbody tr th:only-of-type {\n",
       "        vertical-align: middle;\n",
       "    }\n",
       "\n",
       "    .dataframe tbody tr th {\n",
       "        vertical-align: top;\n",
       "    }\n",
       "\n",
       "    .dataframe thead th {\n",
       "        text-align: right;\n",
       "    }\n",
       "</style>\n",
       "<table border=\"1\" class=\"dataframe\">\n",
       "  <thead>\n",
       "    <tr style=\"text-align: right;\">\n",
       "      <th></th>\n",
       "      <th>Age</th>\n",
       "      <th>Sex</th>\n",
       "      <th>ChestPainType</th>\n",
       "      <th>RestingBP</th>\n",
       "      <th>Cholesterol</th>\n",
       "      <th>FastingBS</th>\n",
       "      <th>RestingECG</th>\n",
       "      <th>MaxHR</th>\n",
       "      <th>ExerciseAngina</th>\n",
       "      <th>Oldpeak</th>\n",
       "      <th>ST_Slope</th>\n",
       "      <th>HeartDisease</th>\n",
       "    </tr>\n",
       "  </thead>\n",
       "  <tbody>\n",
       "    <tr>\n",
       "      <th>count</th>\n",
       "      <td>918.000000</td>\n",
       "      <td>918</td>\n",
       "      <td>918</td>\n",
       "      <td>918.000000</td>\n",
       "      <td>918.000000</td>\n",
       "      <td>918.000000</td>\n",
       "      <td>918</td>\n",
       "      <td>918.000000</td>\n",
       "      <td>918</td>\n",
       "      <td>918.000000</td>\n",
       "      <td>918</td>\n",
       "      <td>918.000000</td>\n",
       "    </tr>\n",
       "    <tr>\n",
       "      <th>unique</th>\n",
       "      <td>NaN</td>\n",
       "      <td>2</td>\n",
       "      <td>4</td>\n",
       "      <td>NaN</td>\n",
       "      <td>NaN</td>\n",
       "      <td>NaN</td>\n",
       "      <td>3</td>\n",
       "      <td>NaN</td>\n",
       "      <td>2</td>\n",
       "      <td>NaN</td>\n",
       "      <td>3</td>\n",
       "      <td>NaN</td>\n",
       "    </tr>\n",
       "    <tr>\n",
       "      <th>top</th>\n",
       "      <td>NaN</td>\n",
       "      <td>M</td>\n",
       "      <td>ASY</td>\n",
       "      <td>NaN</td>\n",
       "      <td>NaN</td>\n",
       "      <td>NaN</td>\n",
       "      <td>Normal</td>\n",
       "      <td>NaN</td>\n",
       "      <td>N</td>\n",
       "      <td>NaN</td>\n",
       "      <td>Flat</td>\n",
       "      <td>NaN</td>\n",
       "    </tr>\n",
       "    <tr>\n",
       "      <th>freq</th>\n",
       "      <td>NaN</td>\n",
       "      <td>725</td>\n",
       "      <td>496</td>\n",
       "      <td>NaN</td>\n",
       "      <td>NaN</td>\n",
       "      <td>NaN</td>\n",
       "      <td>552</td>\n",
       "      <td>NaN</td>\n",
       "      <td>547</td>\n",
       "      <td>NaN</td>\n",
       "      <td>460</td>\n",
       "      <td>NaN</td>\n",
       "    </tr>\n",
       "    <tr>\n",
       "      <th>mean</th>\n",
       "      <td>53.510893</td>\n",
       "      <td>NaN</td>\n",
       "      <td>NaN</td>\n",
       "      <td>132.396514</td>\n",
       "      <td>198.799564</td>\n",
       "      <td>0.233115</td>\n",
       "      <td>NaN</td>\n",
       "      <td>136.809368</td>\n",
       "      <td>NaN</td>\n",
       "      <td>0.887364</td>\n",
       "      <td>NaN</td>\n",
       "      <td>0.553377</td>\n",
       "    </tr>\n",
       "    <tr>\n",
       "      <th>std</th>\n",
       "      <td>9.432617</td>\n",
       "      <td>NaN</td>\n",
       "      <td>NaN</td>\n",
       "      <td>18.514154</td>\n",
       "      <td>109.384145</td>\n",
       "      <td>0.423046</td>\n",
       "      <td>NaN</td>\n",
       "      <td>25.460334</td>\n",
       "      <td>NaN</td>\n",
       "      <td>1.066570</td>\n",
       "      <td>NaN</td>\n",
       "      <td>0.497414</td>\n",
       "    </tr>\n",
       "    <tr>\n",
       "      <th>min</th>\n",
       "      <td>28.000000</td>\n",
       "      <td>NaN</td>\n",
       "      <td>NaN</td>\n",
       "      <td>0.000000</td>\n",
       "      <td>0.000000</td>\n",
       "      <td>0.000000</td>\n",
       "      <td>NaN</td>\n",
       "      <td>60.000000</td>\n",
       "      <td>NaN</td>\n",
       "      <td>-2.600000</td>\n",
       "      <td>NaN</td>\n",
       "      <td>0.000000</td>\n",
       "    </tr>\n",
       "    <tr>\n",
       "      <th>25%</th>\n",
       "      <td>47.000000</td>\n",
       "      <td>NaN</td>\n",
       "      <td>NaN</td>\n",
       "      <td>120.000000</td>\n",
       "      <td>173.250000</td>\n",
       "      <td>0.000000</td>\n",
       "      <td>NaN</td>\n",
       "      <td>120.000000</td>\n",
       "      <td>NaN</td>\n",
       "      <td>0.000000</td>\n",
       "      <td>NaN</td>\n",
       "      <td>0.000000</td>\n",
       "    </tr>\n",
       "    <tr>\n",
       "      <th>50%</th>\n",
       "      <td>54.000000</td>\n",
       "      <td>NaN</td>\n",
       "      <td>NaN</td>\n",
       "      <td>130.000000</td>\n",
       "      <td>223.000000</td>\n",
       "      <td>0.000000</td>\n",
       "      <td>NaN</td>\n",
       "      <td>138.000000</td>\n",
       "      <td>NaN</td>\n",
       "      <td>0.600000</td>\n",
       "      <td>NaN</td>\n",
       "      <td>1.000000</td>\n",
       "    </tr>\n",
       "    <tr>\n",
       "      <th>75%</th>\n",
       "      <td>60.000000</td>\n",
       "      <td>NaN</td>\n",
       "      <td>NaN</td>\n",
       "      <td>140.000000</td>\n",
       "      <td>267.000000</td>\n",
       "      <td>0.000000</td>\n",
       "      <td>NaN</td>\n",
       "      <td>156.000000</td>\n",
       "      <td>NaN</td>\n",
       "      <td>1.500000</td>\n",
       "      <td>NaN</td>\n",
       "      <td>1.000000</td>\n",
       "    </tr>\n",
       "    <tr>\n",
       "      <th>max</th>\n",
       "      <td>77.000000</td>\n",
       "      <td>NaN</td>\n",
       "      <td>NaN</td>\n",
       "      <td>200.000000</td>\n",
       "      <td>603.000000</td>\n",
       "      <td>1.000000</td>\n",
       "      <td>NaN</td>\n",
       "      <td>202.000000</td>\n",
       "      <td>NaN</td>\n",
       "      <td>6.200000</td>\n",
       "      <td>NaN</td>\n",
       "      <td>1.000000</td>\n",
       "    </tr>\n",
       "  </tbody>\n",
       "</table>\n",
       "</div>"
      ],
      "text/plain": [
       "               Age  Sex ChestPainType   RestingBP  Cholesterol   FastingBS  \\\n",
       "count   918.000000  918           918  918.000000   918.000000  918.000000   \n",
       "unique         NaN    2             4         NaN          NaN         NaN   \n",
       "top            NaN    M           ASY         NaN          NaN         NaN   \n",
       "freq           NaN  725           496         NaN          NaN         NaN   \n",
       "mean     53.510893  NaN           NaN  132.396514   198.799564    0.233115   \n",
       "std       9.432617  NaN           NaN   18.514154   109.384145    0.423046   \n",
       "min      28.000000  NaN           NaN    0.000000     0.000000    0.000000   \n",
       "25%      47.000000  NaN           NaN  120.000000   173.250000    0.000000   \n",
       "50%      54.000000  NaN           NaN  130.000000   223.000000    0.000000   \n",
       "75%      60.000000  NaN           NaN  140.000000   267.000000    0.000000   \n",
       "max      77.000000  NaN           NaN  200.000000   603.000000    1.000000   \n",
       "\n",
       "       RestingECG       MaxHR ExerciseAngina     Oldpeak ST_Slope  \\\n",
       "count         918  918.000000            918  918.000000      918   \n",
       "unique          3         NaN              2         NaN        3   \n",
       "top        Normal         NaN              N         NaN     Flat   \n",
       "freq          552         NaN            547         NaN      460   \n",
       "mean          NaN  136.809368            NaN    0.887364      NaN   \n",
       "std           NaN   25.460334            NaN    1.066570      NaN   \n",
       "min           NaN   60.000000            NaN   -2.600000      NaN   \n",
       "25%           NaN  120.000000            NaN    0.000000      NaN   \n",
       "50%           NaN  138.000000            NaN    0.600000      NaN   \n",
       "75%           NaN  156.000000            NaN    1.500000      NaN   \n",
       "max           NaN  202.000000            NaN    6.200000      NaN   \n",
       "\n",
       "        HeartDisease  \n",
       "count     918.000000  \n",
       "unique           NaN  \n",
       "top              NaN  \n",
       "freq             NaN  \n",
       "mean        0.553377  \n",
       "std         0.497414  \n",
       "min         0.000000  \n",
       "25%         0.000000  \n",
       "50%         1.000000  \n",
       "75%         1.000000  \n",
       "max         1.000000  "
      ]
     },
     "execution_count": 63,
     "metadata": {},
     "output_type": "execute_result"
    }
   ],
   "source": [
    "# 查看所有类型特征的描述统计\n",
    "train_data.describe(include='all')"
   ]
  },
  {
   "cell_type": "code",
   "execution_count": 64,
   "metadata": {},
   "outputs": [
    {
     "name": "stdout",
     "output_type": "stream",
     "text": [
      "缺失值统计:\n",
      " Age               0\n",
      "Sex               0\n",
      "ChestPainType     0\n",
      "RestingBP         0\n",
      "Cholesterol       0\n",
      "FastingBS         0\n",
      "RestingECG        0\n",
      "MaxHR             0\n",
      "ExerciseAngina    0\n",
      "Oldpeak           0\n",
      "dtype: int64\n"
     ]
    }
   ],
   "source": [
    "# 检查缺失值\n",
    "print(\"缺失值统计:\\n\", train_data.isnull().sum().sort_values(ascending=False).head(10))"
   ]
  },
  {
   "cell_type": "code",
   "execution_count": 65,
   "metadata": {},
   "outputs": [
    {
     "name": "stdout",
     "output_type": "stream",
     "text": [
      "重复值： 0\n"
     ]
    }
   ],
   "source": [
    "# 检查重复值\n",
    "print(\"重复值：\",train_data.duplicated().sum())"
   ]
  },
  {
   "cell_type": "markdown",
   "metadata": {},
   "source": [
    "### 结论\n",
    "- 数据规模：3770*30 <br>\n",
    "- 缺失值：部分列存在缺失值，但缺失比例均不高，需要进行缺失值填充<br>\n",
    "- 重复行：存在重复行<br>\n",
    "- 特征类型：存在数值特征6个、非数值型特征24个<br>"
   ]
  },
  {
   "cell_type": "markdown",
   "metadata": {},
   "source": [
    "## 二、数据清洗"
   ]
  },
  {
   "cell_type": "markdown",
   "metadata": {},
   "source": [
    "### 2.1 特征类型识别"
   ]
  },
  {
   "cell_type": "code",
   "execution_count": 66,
   "metadata": {},
   "outputs": [],
   "source": [
    "# 识别数值型特征\n",
    "numeric_cols = [col for col in train_data.select_dtypes(include=[np.number]).columns \n",
    "                if col != 'binaryClass']"
   ]
  },
  {
   "cell_type": "code",
   "execution_count": 67,
   "metadata": {},
   "outputs": [
    {
     "name": "stdout",
     "output_type": "stream",
     "text": [
      "数值型分类特征数量: 2\n",
      "数值特征数量: 5\n"
     ]
    }
   ],
   "source": [
    "# 识别潜在的分类特征（唯一值较少的数值列）\n",
    "potential_categorical = []\n",
    "num_cols = []  # 真正的连续数值特征\n",
    "\n",
    "for col in numeric_cols:\n",
    "    if train_data[col].nunique() <= 11 :\n",
    "        potential_categorical.append(col)\n",
    "    else:\n",
    "        num_cols.append(col)\n",
    "        \n",
    "print(f\"数值型分类特征数量: {len(potential_categorical)}\")\n",
    "print(f\"数值特征数量: {len(num_cols)}\")"
   ]
  },
  {
   "cell_type": "code",
   "execution_count": 68,
   "metadata": {},
   "outputs": [
    {
     "name": "stdout",
     "output_type": "stream",
     "text": [
      "数值型分类特征: ['FastingBS', 'HeartDisease']\n",
      "数值特征:  ['Age', 'RestingBP', 'Cholesterol', 'MaxHR', 'Oldpeak']\n"
     ]
    }
   ],
   "source": [
    "print(\"数值型分类特征:\",potential_categorical)\n",
    "print(\"数值特征: \",num_cols)"
   ]
  },
  {
   "cell_type": "code",
   "execution_count": 69,
   "metadata": {},
   "outputs": [
    {
     "name": "stdout",
     "output_type": "stream",
     "text": [
      "文本型特征数量: 5\n",
      "文本型特征: ['Sex', 'ChestPainType', 'RestingECG', 'ExerciseAngina', 'ST_Slope']\n"
     ]
    }
   ],
   "source": [
    "# 识别文本型特征\n",
    "text_cols = [col for col in train_data.select_dtypes(include=['object', 'category']).columns \n",
    "             if col != 'binaryClass']\n",
    "\n",
    "print(f\"文本型特征数量: {len(text_cols)}\")\n",
    "print(\"文本型特征:\",text_cols)"
   ]
  },
  {
   "cell_type": "code",
   "execution_count": 70,
   "metadata": {},
   "outputs": [],
   "source": [
    "# 数值型分类特征与文本特征汇总为分类特征\n",
    "if len(potential_categorical)==0:\n",
    "    categorical_cols = text_cols\n",
    "else:\n",
    "    categorical_cols = potential_categorical + text_cols\n",
    "\n",
    "# 确保categorical_cols中的列都存在于当前的train_df中\n",
    "categorical_cols = [col for col in categorical_cols if col in train_df.columns]"
   ]
  },
  {
   "cell_type": "code",
   "execution_count": 71,
   "metadata": {},
   "outputs": [
    {
     "name": "stdout",
     "output_type": "stream",
     "text": [
      "数值型特征数量: 5\n",
      "分类特征数量: 6\n"
     ]
    }
   ],
   "source": [
    "print(f\"数值型特征数量: {len(num_cols)}\")\n",
    "print(f\"分类特征数量: {len(categorical_cols)}\")"
   ]
  },
  {
   "cell_type": "markdown",
   "metadata": {},
   "source": [
    "### 2.2 处理异常值"
   ]
  },
  {
   "cell_type": "code",
   "execution_count": 72,
   "metadata": {},
   "outputs": [],
   "source": [
    "train_df = train_data.copy()"
   ]
  },
  {
   "cell_type": "markdown",
   "metadata": {},
   "source": [
    "#### 2.2.1 使用IQR（四分位距）方法检测数据中异常值"
   ]
  },
  {
   "cell_type": "code",
   "execution_count": 73,
   "metadata": {},
   "outputs": [
    {
     "name": "stdout",
     "output_type": "stream",
     "text": [
      "异常列\t\t异常值数量\n",
      "Age                 \t0\n",
      "RestingBP           \t28\n",
      "Cholesterol         \t183\n",
      "MaxHR               \t2\n",
      "Oldpeak             \t16\n"
     ]
    }
   ],
   "source": [
    "def outlier_thresholds(data, col):\n",
    "    q1 = data[col].quantile(0.25)\n",
    "    q3 = data[col].quantile(0.75)\n",
    "    iqr = q3 - q1\n",
    "    lower = q1 - 1.5 * iqr\n",
    "    upper = q3 + 1.5 * iqr\n",
    "    return lower, upper\n",
    "\n",
    "def check_outliers(data, col):\n",
    "    lower, upper = outlier_thresholds(data, col)\n",
    "    return data[(data[col] < lower) | (data[col] > upper)]\n",
    "\n",
    "print('异常列\\t\\t异常值数量')\n",
    "for col in num_cols:\n",
    "    print(f\"{col.ljust(20)}\\t{len(check_outliers(train_df, col))}\")"
   ]
  },
  {
   "cell_type": "markdown",
   "metadata": {},
   "source": [
    "#### 2.2.2 检测并替换指定列中的异常值为该列的中位数"
   ]
  },
  {
   "cell_type": "code",
   "execution_count": 74,
   "metadata": {},
   "outputs": [],
   "source": [
    "def replace_outliers_with_median(data, col):\n",
    "    lower, upper = outlier_thresholds(data, col)\n",
    "    median = data[col].median()\n",
    "    data[col] = np.where((data[col] < lower) | (data[col] > upper), median, data[col])\n",
    "\n",
    "for col in num_cols:\n",
    "    replace_outliers_with_median(train_df, col)"
   ]
  },
  {
   "cell_type": "markdown",
   "metadata": {},
   "source": [
    "#### 2.2.3 查看替换异常值后的箱线图"
   ]
  },
  {
   "cell_type": "code",
   "execution_count": 75,
   "metadata": {
    "scrolled": false
   },
   "outputs": [
    {
     "data": {
      "image/png": "[encoded data removed]",
      "text/plain": [
       "<Figure size 1000x800 with 1 Axes>"
      ]
     },
     "metadata": {},
     "output_type": "display_data"
    }
   ],
   "source": [
    "features_to_plot = [col for col in num_cols if (train_df[col] >= 0).all()]\n",
    "plt.figure(figsize=(10, 8))  \n",
    "sns.boxplot(data=np.log1p(train_df[features_to_plot]), palette='Set3')   # 对数尺度\n",
    "plt.title('异常值处理后的数值特征箱线图（对数尺度）')\n",
    "plt.ylabel('log(数值 + 1)')\n",
    "plt.tight_layout()\n",
    "plt.show()"
   ]
  },
  {
   "cell_type": "markdown",
   "metadata": {},
   "source": [
    "### 2.3 处理重复行"
   ]
  },
  {
   "cell_type": "code",
   "execution_count": 76,
   "metadata": {},
   "outputs": [
    {
     "name": "stdout",
     "output_type": "stream",
     "text": [
      "去重前数据形状: (918, 12)\n",
      "去重后数据形状: (918, 12)\n",
      "删除了 0 个重复行\n"
     ]
    }
   ],
   "source": [
    "print(f\"去重前数据形状: {train_df.shape}\")\n",
    "\n",
    "# 删除完全重复的行\n",
    "train_df_clean = train_df.drop_duplicates()\n",
    "\n",
    "print(f\"去重后数据形状: {train_df_clean.shape}\")\n",
    "print(f\"删除了 {len(train_df) - len(train_df_clean)} 个重复行\")"
   ]
  },
  {
   "cell_type": "code",
   "execution_count": 77,
   "metadata": {},
   "outputs": [
    {
     "name": "stdout",
     "output_type": "stream",
     "text": [
      "重复行数量： 0\n"
     ]
    }
   ],
   "source": [
    "print(\"重复行数量：\",train_df_clean.duplicated().sum())"
   ]
  },
  {
   "cell_type": "code",
   "execution_count": 78,
   "metadata": {},
   "outputs": [],
   "source": [
    "train_df = train_df_clean"
   ]
  },
  {
   "cell_type": "markdown",
   "metadata": {},
   "source": [
    "### 2.4 处理空值"
   ]
  },
  {
   "cell_type": "markdown",
   "metadata": {},
   "source": [
    "#### 2.4.1 连续数值特征用中位数填充"
   ]
  },
  {
   "cell_type": "code",
   "execution_count": 79,
   "metadata": {},
   "outputs": [
    {
     "name": "stdout",
     "output_type": "stream",
     "text": [
      "连续数值特征缺失值已用中位数填充\n"
     ]
    }
   ],
   "source": [
    "# 连续数值特征用中位数填充\n",
    "if num_cols:\n",
    "    train_df[num_cols] = train_df[num_cols].fillna(train_df[num_cols].median())\n",
    "    print(\"连续数值特征缺失值已用中位数填充\")"
   ]
  },
  {
   "cell_type": "code",
   "execution_count": 80,
   "metadata": {},
   "outputs": [
    {
     "name": "stdout",
     "output_type": "stream",
     "text": [
      "分类特征缺失值已用众数填充\n"
     ]
    }
   ],
   "source": [
    "# 分类型特征用众数填充\n",
    "if categorical_cols:\n",
    "    for col in categorical_cols:\n",
    "        if train_df[col].notna().any():\n",
    "            mode_val = train_df[col].mode()[0] if not train_df[col].mode().empty else \"MISSING\"\n",
    "            train_df[col] = train_df[col].fillna(mode_val)\n",
    "    print(\"分类特征缺失值已用众数填充\")"
   ]
  },
  {
   "cell_type": "code",
   "execution_count": 81,
   "metadata": {},
   "outputs": [
    {
     "name": "stdout",
     "output_type": "stream",
     "text": [
      "缺失值统计:\n",
      " 0\n"
     ]
    }
   ],
   "source": [
    "# 检查是否填充完整\n",
    "print(\"缺失值统计:\\n\", train_df.isnull().sum().sum())"
   ]
  },
  {
   "cell_type": "code",
   "execution_count": 82,
   "metadata": {},
   "outputs": [
    {
     "name": "stdout",
     "output_type": "stream",
     "text": [
      "缺失值统计:\n",
      " Age               0\n",
      "Sex               0\n",
      "ChestPainType     0\n",
      "RestingBP         0\n",
      "Cholesterol       0\n",
      "FastingBS         0\n",
      "RestingECG        0\n",
      "MaxHR             0\n",
      "ExerciseAngina    0\n",
      "Oldpeak           0\n",
      "dtype: int64\n"
     ]
    }
   ],
   "source": [
    "# 检查是否填充完整\n",
    "print(\"缺失值统计:\\n\", train_df.isnull().sum().sort_values(ascending=False).head(10))"
   ]
  },
  {
   "cell_type": "markdown",
   "metadata": {},
   "source": [
    "#### 缺失值处理效果验证"
   ]
  },
  {
   "cell_type": "code",
   "execution_count": null,
   "metadata": {},
   "outputs": [],
   "source": []
  },
  {
   "cell_type": "markdown",
   "metadata": {},
   "source": [
    "### 2.5 分离目标变量"
   ]
  },
  {
   "cell_type": "code",
   "execution_count": 83,
   "metadata": {},
   "outputs": [],
   "source": [
    "# 分离目标变量\n",
    "y = train_df.pop('HeartDisease')   # 删除列名指定的列,同时将结果返回到y_train"
   ]
  },
  {
   "cell_type": "markdown",
   "metadata": {},
   "source": [
    "## 三、数据预处理"
   ]
  },
  {
   "cell_type": "markdown",
   "metadata": {},
   "source": [
    "### 3.1 数据标准化"
   ]
  },
  {
   "cell_type": "code",
   "execution_count": 84,
   "metadata": {},
   "outputs": [],
   "source": [
    "# Z-score标准化 (x - μ) / σ\n",
    "original_data = train_df[num_cols].copy()\n",
    "z_score_data = (original_data - original_data.mean()) / original_data.std()"
   ]
  },
  {
   "cell_type": "code",
   "execution_count": 85,
   "metadata": {},
   "outputs": [
    {
     "data": {
      "application/vnd.microsoft.datawrangler.viewer.v0+json": {
       "columns": [
        {
         "name": "index",
         "rawType": "int64",
         "type": "integer"
        },
        {
         "name": "Age",
         "rawType": "float64",
         "type": "float"
        },
        {
         "name": "RestingBP",
         "rawType": "float64",
         "type": "float"
        },
        {
         "name": "Cholesterol",
         "rawType": "float64",
         "type": "float"
        },
        {
         "name": "MaxHR",
         "rawType": "float64",
         "type": "float"
        },
        {
         "name": "Oldpeak",
         "rawType": "float64",
         "type": "float"
        }
       ],
       "ref": "941c3917-7b62-4de2-9fa1-6a9fb6523a21",
       "rows": [
        [
         "0",
         "-1.4323590105189492",
         "0.5719280233332149",
         "1.1125971418264564",
         "1.388976959722657",
         "-0.8657659034821106"
        ],
        [
         "1",
         "-0.47822290272990164",
         "1.8542089499906622",
         "-1.239583192114783",
         "0.7544505357239512",
         "0.17806532766653332"
        ],
        [
         "2",
         "-1.750404379781965",
         "-0.06921243999550881",
         "0.9831193252792322",
         "-1.5457077512713573",
         "-0.8657659034821106"
        ],
        [
         "3",
         "-0.5842380258175736",
         "0.44369993066747015",
         "-0.505875565013846",
         "-1.1491287362721663",
         "0.6999809432408552"
        ],
        [
         "4",
         "0.05185271270845817",
         "1.2130684866619386",
         "-0.9158886507467225",
         "-0.5939181152732986",
         "-0.8657659034821106"
        ],
        [
         "5",
         "-1.5383741336066212",
         "-0.7103529033242325",
         "2.1915789463866577",
         "1.3096611567228187",
         "-0.8657659034821106"
        ],
        [
         "6",
         "-0.9022833950805894",
         "-0.06921243999550881",
         "-0.009543934916153256",
         "1.3096611567228187",
         "-0.8657659034821106"
        ],
        [
         "7",
         "0.05185271270845817",
         "-1.3514933666529563",
         "-0.6353533815610701",
         "0.19923991472508357",
         "-0.8657659034821106"
        ],
        [
         "8",
         "-1.750404379781965",
         "0.5719280233332149",
         "-0.6569330176522742",
         "-0.27665490327394576",
         "0.6999809432408552"
        ],
        [
         "9",
         "-0.5842380258175736",
         "-0.7103529033242325",
         "1.0046989613704362",
         "-0.6732339182731368",
         "-0.8657659034821106"
        ],
        [
         "10",
         "-1.750404379781965",
         "-0.06921243999550881",
         "-0.5706144732874581",
         "0.19923991472508357",
         "-0.8657659034821106"
        ],
        [
         "11",
         "0.475913205059146",
         "0.3154718380017254",
         "-1.5848573695740475",
         "-1.5060498497714383",
         "1.2218965588151771"
        ],
        [
         "12",
         "-1.5383741336066212",
         "-0.7103529033242325",
         "-0.7216719259258862",
         "0.3182136192248409",
         "-0.8657659034821106"
        ],
        [
         "13",
         "-0.47822290272990164",
         "0.5719280233332149",
         "-0.07428284318976534",
         "0.11992411172524535",
         "0.17806532766653332"
        ],
        [
         "14",
         "-1.2203287643436054",
         "-1.0309231349885943",
         "-0.5706144732874581",
         "0.0009504072254880193",
         "-0.8657659034821106"
        ],
        [
         "15",
         "0.05185271270845817",
         "-0.7103529033242325",
         "0.7673229643671918",
         "0.5165031267244364",
         "0.6999809432408552"
        ],
        [
         "16",
         "-1.6443892566942933",
         "-1.3514933666529563",
         "-0.8943090146555186",
         "1.1510295507231423",
         "-0.8657659034821106"
        ],
        [
         "17",
         "-1.1143136412559334",
         "-0.7103529033242325",
         "-0.7864108341994984",
         "1.111371649223223",
         "-0.8657659034821106"
        ],
        [
         "18",
         "0.68794345123449",
         "-1.99263382998168",
         "0.2278320620870911",
         "-0.4749444107735413",
         "0.17806532766653332"
        ],
        [
         "19",
         "-1.856419502869637",
         "-0.7103529033242325",
         "0.6378451478199677",
         "0.9130821417236276",
         "2.265727789963821"
        ],
        [
         "20",
         "-1.1143136412559334",
         "-1.99263382998168",
         "-0.3116588401930097",
         "0.19923991472508357",
         "-0.8657659034821106"
        ],
        [
         "21",
         "-1.0082985181682613",
         "-0.7103529033242325",
         "-1.1532646477499668",
         "0.19923991472508357",
         "0.17806532766653332"
        ],
        [
         "22",
         "-0.47822290272990164",
         "-0.45389671799274306",
         "-0.7864108341994984",
         "1.071713747723304",
         "-0.8657659034821106"
        ],
        [
         "23",
         "-1.0082985181682613",
         "1.2130684866619386",
         "1.0910175057352522",
         "0.5165031267244364",
         "2.265727789963821"
        ],
        [
         "24",
         "-1.4323590105189492",
         "-0.06921243999550881",
         "-0.48429592892264195",
         "0.04060830872540713",
         "-0.8657659034821106"
        ],
        [
         "25",
         "-1.856419502869637",
         "-0.06921243999550881",
         "-0.6137737454698662",
         "1.6269243687221715",
         "-0.8657659034821106"
        ],
        [
         "26",
         "-0.05416241037921379",
         "-0.45389671799274306",
         "0.48678769518153947",
         "-0.9904971302724898",
         "2.265727789963821"
        ],
        [
         "27",
         "-0.16017753346688574",
         "-0.7103529033242325",
         "1.0046989613704362",
         "-0.7525497212729751",
         "-0.8657659034821106"
        ],
        [
         "28",
         "-0.05416241037921379",
         "-1.1591512276543392",
         "-0.3116588401930097",
         "-0.39562860777370307",
         "-0.8657659034821106"
        ],
        [
         "29",
         "-0.2661926565545577",
         "-0.3897826716598707",
         "-1.0669461033851508",
         "0.3182136192248409",
         "-0.8657659034821106"
        ],
        [
         "30",
         "-0.05416241037921379",
         "0.8924982549975767",
         "-0.3116588401930097",
         "-0.27665490327394576",
         "-0.8657659034821106"
        ],
        [
         "31",
         "0.2638829588838021",
         "-0.06921243999550881",
         "-1.5201184613004355",
         "-0.9111813272726516",
         "-0.8657659034821106"
        ],
        [
         "32",
         "0.05185271270845817",
         "-0.3897826716598707",
         "-0.29007920410180565",
         "-0.5939181152732986",
         "1.2218965588151771"
        ],
        [
         "33",
         "-1.3263438874312772",
         "-0.06921243999550881",
         "-1.4122202808444153",
         "-0.27665490327394576",
         "1.2218965588151771"
        ],
        [
         "34",
         "-1.1143136412559334",
         "1.2130684866619386",
         "-1.110105375567559",
         "0.675134732724113",
         "-0.8657659034821106"
        ],
        [
         "35",
         "-2.280479995220325",
         "-0.3897826716598707",
         "0.3573098786343153",
         "0.714792634224032",
         "-0.8657659034821106"
        ],
        [
         "36",
         "1.2180190666728496",
         "0.5719280233332149",
         "1.4794509553769248",
         "-1.9819446677704675",
         "0.6999809432408552"
        ],
        [
         "37",
         "-1.3263438874312772",
         "-1.3514933666529563",
         "0.2709913342694992",
         "0.19923991472508357",
         "-0.8657659034821106"
        ],
        [
         "38",
         "-0.5842380258175736",
         "-0.7103529033242325",
         "-1.3043221003883951",
         "0.43718732372459823",
         "-0.8657659034821106"
        ],
        [
         "39",
         "-0.5842380258175736",
         "1.2130684866619386",
         "-0.22534029582819357",
         "-0.27665490327394576",
         "0.17806532766653332"
        ],
        [
         "40",
         "0.05185271270845817",
         "1.2130684866619386",
         "-0.16060138755458148",
         "-0.27665490327394576",
         "-0.8657659034821106"
        ],
        [
         "41",
         "0.05185271270845817",
         "-0.06921243999550881",
         "1.2204953222824766",
         "-1.466391948271519",
         "-0.8657659034821106"
        ],
        [
         "42",
         "-1.962434625957309",
         "1.2130684866619386",
         "0.5731062395463556",
         "1.2303453537229805",
         "-0.8657659034821106"
        ],
        [
         "43",
         "-0.16017753346688574",
         "0.5719280233332149",
         "0.4652080590903354",
         "1.3096611567228187",
         "-0.8657659034821106"
        ],
        [
         "44",
         "-1.1143136412559334",
         "-0.7103529033242325",
         "-1.3474813725708032",
         "-0.6732339182731368",
         "0.17806532766653332"
        ],
        [
         "45",
         "0.5819283281468179",
         "-0.06921243999550881",
         "1.7384065884713733",
         "-0.6732339182731368",
         "0.17806532766653332"
        ],
        [
         "46",
         "-1.750404379781965",
         "-0.7103529033242325",
         "-0.3116588401930097",
         "1.2303453537229805",
         "-0.8657659034821106"
        ],
        [
         "47",
         "-0.3722077796422297",
         "0.5719280233332149",
         "-0.4627162928314379",
         "1.3096611567228187",
         "-0.8657659034821106"
        ],
        [
         "48",
         "-1.856419502869637",
         "-1.2232652739872114",
         "2.213158582477862",
         "1.8648717777216863",
         "0.17806532766653332"
        ],
        [
         "49",
         "-1.3263438874312772",
         "-1.3514933666529563",
         "1.1125971418264564",
         "1.3096611567228187",
         "-0.8657659034821106"
        ]
       ],
       "shape": {
        "columns": 5,
        "rows": 918
       }
      },
      "text/html": [
       "<div>\n",
       "<style scoped>\n",
       "    .dataframe tbody tr th:only-of-type {\n",
       "        vertical-align: middle;\n",
       "    }\n",
       "\n",
       "    .dataframe tbody tr th {\n",
       "        vertical-align: top;\n",
       "    }\n",
       "\n",
       "    .dataframe thead th {\n",
       "        text-align: right;\n",
       "    }\n",
       "</style>\n",
       "<table border=\"1\" class=\"dataframe\">\n",
       "  <thead>\n",
       "    <tr style=\"text-align: right;\">\n",
       "      <th></th>\n",
       "      <th>Age</th>\n",
       "      <th>RestingBP</th>\n",
       "      <th>Cholesterol</th>\n",
       "      <th>MaxHR</th>\n",
       "      <th>Oldpeak</th>\n",
       "    </tr>\n",
       "  </thead>\n",
       "  <tbody>\n",
       "    <tr>\n",
       "      <th>0</th>\n",
       "      <td>-1.432359</td>\n",
       "      <td>0.571928</td>\n",
       "      <td>1.112597</td>\n",
       "      <td>1.388977</td>\n",
       "      <td>-0.865766</td>\n",
       "    </tr>\n",
       "    <tr>\n",
       "      <th>1</th>\n",
       "      <td>-0.478223</td>\n",
       "      <td>1.854209</td>\n",
       "      <td>-1.239583</td>\n",
       "      <td>0.754451</td>\n",
       "      <td>0.178065</td>\n",
       "    </tr>\n",
       "    <tr>\n",
       "      <th>2</th>\n",
       "      <td>-1.750404</td>\n",
       "      <td>-0.069212</td>\n",
       "      <td>0.983119</td>\n",
       "      <td>-1.545708</td>\n",
       "      <td>-0.865766</td>\n",
       "    </tr>\n",
       "    <tr>\n",
       "      <th>3</th>\n",
       "      <td>-0.584238</td>\n",
       "      <td>0.443700</td>\n",
       "      <td>-0.505876</td>\n",
       "      <td>-1.149129</td>\n",
       "      <td>0.699981</td>\n",
       "    </tr>\n",
       "    <tr>\n",
       "      <th>4</th>\n",
       "      <td>0.051853</td>\n",
       "      <td>1.213068</td>\n",
       "      <td>-0.915889</td>\n",
       "      <td>-0.593918</td>\n",
       "      <td>-0.865766</td>\n",
       "    </tr>\n",
       "    <tr>\n",
       "      <th>...</th>\n",
       "      <td>...</td>\n",
       "      <td>...</td>\n",
       "      <td>...</td>\n",
       "      <td>...</td>\n",
       "      <td>...</td>\n",
       "    </tr>\n",
       "    <tr>\n",
       "      <th>913</th>\n",
       "      <td>-0.902283</td>\n",
       "      <td>-1.351493</td>\n",
       "      <td>0.573106</td>\n",
       "      <td>-0.197339</td>\n",
       "      <td>0.386832</td>\n",
       "    </tr>\n",
       "    <tr>\n",
       "      <th>914</th>\n",
       "      <td>1.536064</td>\n",
       "      <td>0.828384</td>\n",
       "      <td>-0.959048</td>\n",
       "      <td>0.159582</td>\n",
       "      <td>2.683260</td>\n",
       "    </tr>\n",
       "    <tr>\n",
       "      <th>915</th>\n",
       "      <td>0.369898</td>\n",
       "      <td>-0.069212</td>\n",
       "      <td>-2.296985</td>\n",
       "      <td>-0.871523</td>\n",
       "      <td>0.386832</td>\n",
       "    </tr>\n",
       "    <tr>\n",
       "      <th>916</th>\n",
       "      <td>0.369898</td>\n",
       "      <td>-0.069212</td>\n",
       "      <td>-0.031124</td>\n",
       "      <td>1.468293</td>\n",
       "      <td>-0.865766</td>\n",
       "    </tr>\n",
       "    <tr>\n",
       "      <th>917</th>\n",
       "      <td>-1.644389</td>\n",
       "      <td>0.443700</td>\n",
       "      <td>-1.347481</td>\n",
       "      <td>1.428635</td>\n",
       "      <td>-0.865766</td>\n",
       "    </tr>\n",
       "  </tbody>\n",
       "</table>\n",
       "<p>918 rows × 5 columns</p>\n",
       "</div>"
      ],
      "text/plain": [
       "          Age  RestingBP  Cholesterol     MaxHR   Oldpeak\n",
       "0   -1.432359   0.571928     1.112597  1.388977 -0.865766\n",
       "1   -0.478223   1.854209    -1.239583  0.754451  0.178065\n",
       "2   -1.750404  -0.069212     0.983119 -1.545708 -0.865766\n",
       "3   -0.584238   0.443700    -0.505876 -1.149129  0.699981\n",
       "4    0.051853   1.213068    -0.915889 -0.593918 -0.865766\n",
       "..        ...        ...          ...       ...       ...\n",
       "913 -0.902283  -1.351493     0.573106 -0.197339  0.386832\n",
       "914  1.536064   0.828384    -0.959048  0.159582  2.683260\n",
       "915  0.369898  -0.069212    -2.296985 -0.871523  0.386832\n",
       "916  0.369898  -0.069212    -0.031124  1.468293 -0.865766\n",
       "917 -1.644389   0.443700    -1.347481  1.428635 -0.865766\n",
       "\n",
       "[918 rows x 5 columns]"
      ]
     },
     "execution_count": 85,
     "metadata": {},
     "output_type": "execute_result"
    }
   ],
   "source": [
    "z_score_data"
   ]
  },
  {
   "cell_type": "code",
   "execution_count": 86,
   "metadata": {},
   "outputs": [
    {
     "name": "stdout",
     "output_type": "stream",
     "text": [
      "=== 标准化前后数据对比（前5行） ===\n",
      "\n",
      "原始数据：\n",
      "    Age  RestingBP  Cholesterol  MaxHR  Oldpeak\n",
      "0  40.0      140.0        289.0  172.0      0.0\n",
      "1  49.0      160.0        180.0  156.0      1.0\n",
      "2  37.0      130.0        283.0   98.0      0.0\n",
      "3  48.0      138.0        214.0  108.0      1.5\n",
      "4  54.0      150.0        195.0  122.0      0.0\n",
      "\n",
      "Z-score标准化后数据（均值≈0，标准差≈1）：\n",
      "        Age  RestingBP  Cholesterol     MaxHR   Oldpeak\n",
      "0 -1.432359   0.571928     1.112597  1.388977 -0.865766\n",
      "1 -0.478223   1.854209    -1.239583  0.754451  0.178065\n",
      "2 -1.750404  -0.069212     0.983119 -1.545708 -0.865766\n",
      "3 -0.584238   0.443700    -0.505876 -1.149129  0.699981\n",
      "4  0.051853   1.213068    -0.915889 -0.593918 -0.865766\n",
      "\n",
      "Z-score标准化后统计量：\n",
      "              均值  标准差\n",
      "Age         -0.0  1.0\n",
      "RestingBP   -0.0  1.0\n",
      "Cholesterol  0.0  1.0\n",
      "MaxHR       -0.0  1.0\n",
      "Oldpeak     -0.0  1.0\n"
     ]
    }
   ],
   "source": [
    "# 输出标准化前后的对比（前5行）\n",
    "print(\"=== 标准化前后数据对比（前5行） ===\")\n",
    "print(\"\\n原始数据：\")\n",
    "print(original_data.head())\n",
    "\n",
    "print(\"\\nZ-score标准化后数据（均值≈0，标准差≈1）：\")\n",
    "print(z_score_data.head())\n",
    "print(\"\\nZ-score标准化后统计量：\")\n",
    "print(pd.DataFrame({\n",
    "    '均值': z_score_data.mean().round(4),\n",
    "    '标准差': z_score_data.std().round(4)\n",
    "}))"
   ]
  },
  {
   "cell_type": "code",
   "execution_count": 87,
   "metadata": {},
   "outputs": [
    {
     "data": {
      "application/vnd.microsoft.datawrangler.viewer.v0+json": {
       "columns": [
        {
         "name": "index",
         "rawType": "int64",
         "type": "integer"
        },
        {
         "name": "Age",
         "rawType": "float64",
         "type": "float"
        },
        {
         "name": "Sex",
         "rawType": "object",
         "type": "string"
        },
        {
         "name": "ChestPainType",
         "rawType": "object",
         "type": "string"
        },
        {
         "name": "RestingBP",
         "rawType": "float64",
         "type": "float"
        },
        {
         "name": "Cholesterol",
         "rawType": "float64",
         "type": "float"
        },
        {
         "name": "FastingBS",
         "rawType": "int64",
         "type": "integer"
        },
        {
         "name": "RestingECG",
         "rawType": "object",
         "type": "string"
        },
        {
         "name": "MaxHR",
         "rawType": "float64",
         "type": "float"
        },
        {
         "name": "ExerciseAngina",
         "rawType": "object",
         "type": "string"
        },
        {
         "name": "Oldpeak",
         "rawType": "float64",
         "type": "float"
        },
        {
         "name": "ST_Slope",
         "rawType": "object",
         "type": "string"
        }
       ],
       "ref": "78cc0428-15ea-44c9-a9c9-ce2dc917ef2b",
       "rows": [
        [
         "0",
         "-1.4323590105189492",
         "M",
         "ATA",
         "0.5719280233332149",
         "1.1125971418264564",
         "0",
         "Normal",
         "1.388976959722657",
         "N",
         "-0.8657659034821106",
         "Up"
        ],
        [
         "1",
         "-0.47822290272990164",
         "F",
         "NAP",
         "1.8542089499906622",
         "-1.239583192114783",
         "0",
         "Normal",
         "0.7544505357239512",
         "N",
         "0.17806532766653332",
         "Flat"
        ],
        [
         "2",
         "-1.750404379781965",
         "M",
         "ATA",
         "-0.06921243999550881",
         "0.9831193252792322",
         "0",
         "ST",
         "-1.5457077512713573",
         "N",
         "-0.8657659034821106",
         "Up"
        ],
        [
         "3",
         "-0.5842380258175736",
         "F",
         "ASY",
         "0.44369993066747015",
         "-0.505875565013846",
         "0",
         "Normal",
         "-1.1491287362721663",
         "Y",
         "0.6999809432408552",
         "Flat"
        ],
        [
         "4",
         "0.05185271270845817",
         "M",
         "NAP",
         "1.2130684866619386",
         "-0.9158886507467225",
         "0",
         "Normal",
         "-0.5939181152732986",
         "N",
         "-0.8657659034821106",
         "Up"
        ]
       ],
       "shape": {
        "columns": 11,
        "rows": 5
       }
      },
      "text/html": [
       "<div>\n",
       "<style scoped>\n",
       "    .dataframe tbody tr th:only-of-type {\n",
       "        vertical-align: middle;\n",
       "    }\n",
       "\n",
       "    .dataframe tbody tr th {\n",
       "        vertical-align: top;\n",
       "    }\n",
       "\n",
       "    .dataframe thead th {\n",
       "        text-align: right;\n",
       "    }\n",
       "</style>\n",
       "<table border=\"1\" class=\"dataframe\">\n",
       "  <thead>\n",
       "    <tr style=\"text-align: right;\">\n",
       "      <th></th>\n",
       "      <th>Age</th>\n",
       "      <th>Sex</th>\n",
       "      <th>ChestPainType</th>\n",
       "      <th>RestingBP</th>\n",
       "      <th>Cholesterol</th>\n",
       "      <th>FastingBS</th>\n",
       "      <th>RestingECG</th>\n",
       "      <th>MaxHR</th>\n",
       "      <th>ExerciseAngina</th>\n",
       "      <th>Oldpeak</th>\n",
       "      <th>ST_Slope</th>\n",
       "    </tr>\n",
       "  </thead>\n",
       "  <tbody>\n",
       "    <tr>\n",
       "      <th>0</th>\n",
       "      <td>-1.432359</td>\n",
       "      <td>M</td>\n",
       "      <td>ATA</td>\n",
       "      <td>0.571928</td>\n",
       "      <td>1.112597</td>\n",
       "      <td>0</td>\n",
       "      <td>Normal</td>\n",
       "      <td>1.388977</td>\n",
       "      <td>N</td>\n",
       "      <td>-0.865766</td>\n",
       "      <td>Up</td>\n",
       "    </tr>\n",
       "    <tr>\n",
       "      <th>1</th>\n",
       "      <td>-0.478223</td>\n",
       "      <td>F</td>\n",
       "      <td>NAP</td>\n",
       "      <td>1.854209</td>\n",
       "      <td>-1.239583</td>\n",
       "      <td>0</td>\n",
       "      <td>Normal</td>\n",
       "      <td>0.754451</td>\n",
       "      <td>N</td>\n",
       "      <td>0.178065</td>\n",
       "      <td>Flat</td>\n",
       "    </tr>\n",
       "    <tr>\n",
       "      <th>2</th>\n",
       "      <td>-1.750404</td>\n",
       "      <td>M</td>\n",
       "      <td>ATA</td>\n",
       "      <td>-0.069212</td>\n",
       "      <td>0.983119</td>\n",
       "      <td>0</td>\n",
       "      <td>ST</td>\n",
       "      <td>-1.545708</td>\n",
       "      <td>N</td>\n",
       "      <td>-0.865766</td>\n",
       "      <td>Up</td>\n",
       "    </tr>\n",
       "    <tr>\n",
       "      <th>3</th>\n",
       "      <td>-0.584238</td>\n",
       "      <td>F</td>\n",
       "      <td>ASY</td>\n",
       "      <td>0.443700</td>\n",
       "      <td>-0.505876</td>\n",
       "      <td>0</td>\n",
       "      <td>Normal</td>\n",
       "      <td>-1.149129</td>\n",
       "      <td>Y</td>\n",
       "      <td>0.699981</td>\n",
       "      <td>Flat</td>\n",
       "    </tr>\n",
       "    <tr>\n",
       "      <th>4</th>\n",
       "      <td>0.051853</td>\n",
       "      <td>M</td>\n",
       "      <td>NAP</td>\n",
       "      <td>1.213068</td>\n",
       "      <td>-0.915889</td>\n",
       "      <td>0</td>\n",
       "      <td>Normal</td>\n",
       "      <td>-0.593918</td>\n",
       "      <td>N</td>\n",
       "      <td>-0.865766</td>\n",
       "      <td>Up</td>\n",
       "    </tr>\n",
       "  </tbody>\n",
       "</table>\n",
       "</div>"
      ],
      "text/plain": [
       "        Age Sex ChestPainType  RestingBP  Cholesterol  FastingBS RestingECG  \\\n",
       "0 -1.432359   M           ATA   0.571928     1.112597          0     Normal   \n",
       "1 -0.478223   F           NAP   1.854209    -1.239583          0     Normal   \n",
       "2 -1.750404   M           ATA  -0.069212     0.983119          0         ST   \n",
       "3 -0.584238   F           ASY   0.443700    -0.505876          0     Normal   \n",
       "4  0.051853   M           NAP   1.213068    -0.915889          0     Normal   \n",
       "\n",
       "      MaxHR ExerciseAngina   Oldpeak ST_Slope  \n",
       "0  1.388977              N -0.865766       Up  \n",
       "1  0.754451              N  0.178065     Flat  \n",
       "2 -1.545708              N -0.865766       Up  \n",
       "3 -1.149129              Y  0.699981     Flat  \n",
       "4 -0.593918              N -0.865766       Up  "
      ]
     },
     "execution_count": 87,
     "metadata": {},
     "output_type": "execute_result"
    }
   ],
   "source": [
    "train_df_std = train_df.copy()\n",
    "train_df_std[num_cols] = z_score_data\n",
    "train_df_std.head()"
   ]
  },
  {
   "cell_type": "markdown",
   "metadata": {},
   "source": [
    "标准化后的数值特征分布"
   ]
  },
  {
   "cell_type": "code",
   "execution_count": 88,
   "metadata": {},
   "outputs": [
    {
     "data": {
      "image/png": "[encoded data removed]",
      "text/plain": [
       "<Figure size 1800x5000 with 30 Axes>"
      ]
     },
     "metadata": {},
     "output_type": "display_data"
    }
   ],
   "source": [
    "# 数值特征分布（直方图 + KDE）\n",
    "fig, axes = plt.subplots(10, 3, figsize=(18, 50)) # 2行3列的子图\n",
    "axes = axes.ravel() # 将轴数组展平\n",
    "\n",
    "for i, col in enumerate(num_cols):\n",
    "    sns.histplot(data=train_df_std, x=col, kde=True, ax=axes[i],color=np.random.rand(3,)) # kde=True 增加密度曲线\n",
    "    axes[i].set_title(f'{col}的分布', fontsize=14)\n",
    "    \n",
    "# 如果子图数量多于特征，隐藏多余的子图\n",
    "for j in range(i+1, len(axes)):\n",
    "    axes[j].set_visible(False)\n",
    "    \n",
    "plt.tight_layout()\n",
    "plt.show()"
   ]
  },
  {
   "cell_type": "markdown",
   "metadata": {},
   "source": [
    "### 3.2 数据编码"
   ]
  },
  {
   "cell_type": "markdown",
   "metadata": {},
   "source": [
    "#### 3.2.1 识别二分类和多分类字段"
   ]
  },
  {
   "cell_type": "code",
   "execution_count": null,
   "metadata": {},
   "outputs": [],
   "source": []
  },
  {
   "cell_type": "code",
   "execution_count": 89,
   "metadata": {},
   "outputs": [],
   "source": [
    "# # 1. 识别二分类和多分类字段\n",
    "# binary_cols = []  # 二分类字段（仅两个不同取值）\n",
    "# multi_cols = []   # 多分类字段（两个以上不同取值）"
   ]
  },
  {
   "cell_type": "code",
   "execution_count": 90,
   "metadata": {},
   "outputs": [],
   "source": [
    "# for col in categorical_cols:\n",
    "#     unique_vals = train_df_std[col].nunique()\n",
    "#     if unique_vals == 2:\n",
    "#         binary_cols.append(col)\n",
    "#     else:\n",
    "#         multi_cols.append(col)"
   ]
  },
  {
   "cell_type": "code",
   "execution_count": 91,
   "metadata": {},
   "outputs": [],
   "source": [
    "# print(\"\\n=== 字段分类 ===\")\n",
    "# print(f\"二分类字段（采用0-1编码）：{binary_cols}\")\n",
    "# print(f\"多分类字段（采用独热编码）：{multi_cols}\")"
   ]
  },
  {
   "cell_type": "markdown",
   "metadata": {},
   "source": [
    "#### 3.3.2 二分类字段进行0-1编码"
   ]
  },
  {
   "cell_type": "code",
   "execution_count": 92,
   "metadata": {},
   "outputs": [],
   "source": [
    "# train_df_encoded = train_df_std.copy()\n",
    "# for col in binary_cols:\n",
    "#     # 获取该字段的两个唯一值\n",
    "#     vals = train_df_std[col].unique()\n",
    "#     # 映射为0和1（将第一个值映射为0，第二个值映射为1）\n",
    "#     train_df_encoded[col] = train_df_encoded[col].map({vals[0]: 0, vals[1]: 1})\n",
    "#     print(f\"\\n{col}字段0-1编码映射：{vals[0]}→0，{vals[1]}→1\")"
   ]
  },
  {
   "cell_type": "markdown",
   "metadata": {},
   "source": [
    "#### 3.3.3 多分类字段进行独热编码"
   ]
  },
  {
   "cell_type": "code",
   "execution_count": 93,
   "metadata": {},
   "outputs": [],
   "source": [
    "# # 3. 多分类字段进行独热编码\n",
    "# train_df_encoded = pd.get_dummies(train_df_encoded, columns=multi_cols, prefix=multi_cols, drop_first=True)"
   ]
  },
  {
   "cell_type": "markdown",
   "metadata": {},
   "source": [
    "#### 3.3.4 对目标变量进行编码"
   ]
  },
  {
   "cell_type": "code",
   "execution_count": 94,
   "metadata": {},
   "outputs": [],
   "source": [
    "# from sklearn.preprocessing import LabelEncoder\n",
    "# le = LabelEncoder()\n",
    "# y_encoded = le.fit_transform(y)\n",
    "# print(f\"目标变量编码映射: {dict(zip(le.classes_, le.transform(le.classes_)))}\")\n"
   ]
  },
  {
   "cell_type": "markdown",
   "metadata": {},
   "source": [
    "#### 3.3.5 展示编码前后对比（前5行）"
   ]
  },
  {
   "cell_type": "code",
   "execution_count": 95,
   "metadata": {},
   "outputs": [],
   "source": [
    "# print(\"\\n=== 编码前后数据对比（前5行） ===\")\n",
    "# print(\"原始数据（部分字段）：\")\n",
    "# print(train_df_std[categorical_cols[:5]].head())\n",
    "\n",
    "# print(\"\\n编码后数据（部分字段）：\")\n",
    "# # 选取部分编码后的字段展示\n",
    "# encoded_sample_cols = binary_cols[:2] + [col for col in train_df_encoded.columns if any(col.startswith(p) for p in multi_cols[:2])]\n",
    "# print(train_df_encoded[encoded_sample_cols].head())"
   ]
  },
  {
   "cell_type": "markdown",
   "metadata": {},
   "source": [
    "## 四、特征工程"
   ]
  },
  {
   "cell_type": "markdown",
   "metadata": {},
   "source": [
    "### 4.1 特征选择"
   ]
  },
  {
   "cell_type": "markdown",
   "metadata": {},
   "source": [
    "#### 4.1.1 相关性计算 ---- 数值型"
   ]
  },
  {
   "cell_type": "code",
   "execution_count": 96,
   "metadata": {},
   "outputs": [
    {
     "name": "stdout",
     "output_type": "stream",
     "text": [
      "目标变量编码映射: {0: 0, 1: 1}\n"
     ]
    }
   ],
   "source": [
    "# 对目标变量进行编码\n",
    "from sklearn.preprocessing import LabelEncoder\n",
    "le = LabelEncoder()\n",
    "y_encoded = le.fit_transform(y)\n",
    "print(f\"目标变量编码映射: {dict(zip(le.classes_, le.transform(le.classes_)))}\")"
   ]
  },
  {
   "cell_type": "code",
   "execution_count": 97,
   "metadata": {},
   "outputs": [
    {
     "name": "stdout",
     "output_type": "stream",
     "text": [
      "=== 数值型特征与目标变量的皮尔逊相关系数 ===\n",
      "Oldpeak        0.4036\n",
      "Age            0.2820\n",
      "RestingBP      0.1080\n",
      "Cholesterol    0.0461\n",
      "MaxHR         -0.3984\n",
      "dtype: float64\n"
     ]
    }
   ],
   "source": [
    "# 1. 数值型特征与目标变量的皮尔逊相关系数\n",
    "print(\"=== 数值型特征与目标变量的皮尔逊相关系数 ===\")\n",
    "y_series = pd.Series(y_encoded, name='target')\n",
    "numerical_corr = train_df_std[num_cols].corrwith(y_series)\n",
    "numerical_corr = numerical_corr.sort_values(ascending=False)\n",
    "print(numerical_corr.round(4))"
   ]
  },
  {
   "cell_type": "code",
   "execution_count": 98,
   "metadata": {},
   "outputs": [
    {
     "data": {
      "image/png": "[encoded data removed]",
      "text/plain": [
       "<Figure size 1000x600 with 1 Axes>"
      ]
     },
     "metadata": {},
     "output_type": "display_data"
    }
   ],
   "source": [
    "# 可视化皮尔逊相关系数\n",
    "plt.figure(figsize=(10, 6))\n",
    "sns.barplot(x=numerical_corr.index, y=numerical_corr.values)\n",
    "plt.title('Numerical Features: Pearson Correlation with Target')\n",
    "plt.axhline(y=0, color='r', linestyle='--', alpha=0.3)\n",
    "plt.xticks(rotation=45)\n",
    "plt.tight_layout()\n",
    "plt.show()"
   ]
  },
  {
   "cell_type": "markdown",
   "metadata": {},
   "source": [
    "#### 4.1.2 相关性计算 ----- 分类特征"
   ]
  },
  {
   "cell_type": "code",
   "execution_count": 99,
   "metadata": {},
   "outputs": [
    {
     "name": "stdout",
     "output_type": "stream",
     "text": [
      "\n",
      "=== 分类型特征与目标变量的卡方检验（编码前） ===\n",
      "          Feature  Chi2 Score  P-value  Significant\n",
      "5        ST_Slope    355.9184   0.0000         True\n",
      "2   ChestPainType    268.0672   0.0000         True\n",
      "4  ExerciseAngina    222.2594   0.0000         True\n",
      "1             Sex     84.1451   0.0000         True\n",
      "0       FastingBS     64.3207   0.0000         True\n",
      "3      RestingECG     10.9315   0.0042         True\n",
      "          Feature  Chi2 Score  P-value  Significant\n",
      "5        ST_Slope    355.9184   0.0000         True\n",
      "2   ChestPainType    268.0672   0.0000         True\n",
      "4  ExerciseAngina    222.2594   0.0000         True\n",
      "1             Sex     84.1451   0.0000         True\n",
      "0       FastingBS     64.3207   0.0000         True\n",
      "3      RestingECG     10.9315   0.0042         True\n"
     ]
    }
   ],
   "source": [
    "# 5. 分类型特征与目标变量的卡方检验（编码前，使用原始分类）\n",
    "from scipy.stats import pointbiserialr, chi2_contingency\n",
    "print(\"\\n=== 分类型特征与目标变量的卡方检验（编码前） ===\")\n",
    "categorical_chi2 = []\n",
    "for col in categorical_cols:\n",
    "    # 构建列联表\n",
    "    contingency = pd.crosstab(train_df[col], y_encoded)\n",
    "    # 卡方检验\n",
    "    chi2, p, dof, expected = chi2_contingency(contingency)\n",
    "    categorical_chi2.append({\n",
    "        'Feature': col,\n",
    "        'Chi2 Score': chi2,  # 卡方统计量（值越大，相关性越强）\n",
    "        'P-value': p,     # 显著性水平（P < 0.05 表示显著相关）\n",
    "        'Significant': p < 0.05   # 是否显著（布尔值）\n",
    "    })\n",
    "chi2_results = pd.DataFrame(categorical_chi2)\n",
    "\n",
    "# 按卡方值排序（值越大相关性可能越高）\n",
    "chi2_results = chi2_results.sort_values(by='Chi2 Score', ascending=False)\n",
    "print(chi2_results.head(10).round(4))  # 显示前10个特征"
   ]
  },
  {
   "cell_type": "markdown",
   "metadata": {},
   "source": [
    "📊 1. 卡方值条形图"
   ]
  },
  {
   "cell_type": "code",
   "execution_count": 100,
   "metadata": {},
   "outputs": [
    {
     "data": {
      "image/png": "[encoded data removed]",
      "text/plain": [
       "<Figure size 1200x600 with 1 Axes>"
      ]
     },
     "metadata": {},
     "output_type": "display_data"
    }
   ],
   "source": [
    "import matplotlib.pyplot as plt\n",
    "import seaborn as sns\n",
    "\n",
    "plt.figure(figsize=(12, 6))\n",
    "# 按卡方值排序\n",
    "chi2_sorted = chi2_results.sort_values('Chi2 Score', ascending=True)\n",
    "\n",
    "# 创建条形图\n",
    "bars = plt.barh(chi2_sorted['Feature'], chi2_sorted['Chi2 Score'], \n",
    "                color=['red' if p < 0.05 else 'gray' for p in chi2_sorted['P-value']])\n",
    "\n",
    "plt.xlabel('卡方值 (Chi2 Score)')\n",
    "plt.title('特征与目标变量的卡方检验结果')\n",
    "plt.grid(axis='x', alpha=0.3)\n",
    "\n",
    "# 添加显著性标记\n",
    "for i, (chi2, p) in enumerate(zip(chi2_sorted['Chi2 Score'], chi2_sorted['P-value'])):\n",
    "    if p < 0.05:\n",
    "        plt.text(chi2 + 0.1, i, '***' if p < 0.001 else '**' if p < 0.01 else '*', \n",
    "                va='center', fontweight='bold')\n",
    "\n",
    "plt.tight_layout()\n",
    "plt.show()"
   ]
  },
  {
   "cell_type": "markdown",
   "metadata": {},
   "source": [
    "📈 2. 相关性热力图（多特征比较）"
   ]
  },
  {
   "cell_type": "code",
   "execution_count": 101,
   "metadata": {},
   "outputs": [
    {
     "data": {
      "image/png": "[encoded data removed]",
      "text/plain": [
       "<Figure size 1000x800 with 2 Axes>"
      ]
     },
     "metadata": {},
     "output_type": "display_data"
    }
   ],
   "source": [
    "# 创建相关性矩阵可视化\n",
    "plt.figure(figsize=(10, 8))\n",
    "corr_matrix = chi2_results.set_index('Feature')[['Chi2 Score', 'P-value']]\n",
    "\n",
    "# 使用颜色表示显著性\n",
    "sns.heatmap(corr_matrix, \n",
    "           annot=True, \n",
    "           cmap='RdBu_r', \n",
    "           center=0,\n",
    "           fmt='.3f',\n",
    "           cbar_kws={'label': '相关性强度'})\n",
    "plt.title('特征卡方检验结果热力图')\n",
    "plt.show()"
   ]
  },
  {
   "cell_type": "markdown",
   "metadata": {},
   "source": [
    "🎯 3. 显著性星状图"
   ]
  },
  {
   "cell_type": "code",
   "execution_count": 102,
   "metadata": {},
   "outputs": [
    {
     "name": "stderr",
     "output_type": "stream",
     "text": [
      "C:\\Users\\Man\\AppData\\Local\\Temp\\ipykernel_4720\\4126319349.py:19: UserWarning: Glyph 178 (\\N{SUPERSCRIPT TWO}) missing from current font.\n",
      "  plt.tight_layout()\n",
      "e:\\Anaconda\\Lib\\site-packages\\IPython\\core\\pylabtools.py:170: UserWarning: Glyph 178 (\\N{SUPERSCRIPT TWO}) missing from current font.\n",
      "  fig.canvas.print_figure(bytes_io, **kw)\n"
     ]
    },
    {
     "data": {
      "image/png": "[encoded data removed]",
      "text/plain": [
       "<Figure size 1400x600 with 2 Axes>"
      ]
     },
     "metadata": {},
     "output_type": "display_data"
    }
   ],
   "source": [
    "# 设定卡方阈值\n",
    "chi2_threshold = 5.0  # 卡方值阈值\n",
    "\n",
    "plt.figure(figsize=(14, 6))\n",
    "# 创建散点图，大小表示卡方值，颜色表示显著性\n",
    "scatter = plt.scatter(range(len(chi2_results)), \n",
    "                     chi2_results['Chi2 Score'],\n",
    "                     s=chi2_results['Chi2 Score']*10,  # 点大小与卡方值成正比\n",
    "                     c=chi2_results['P-value'],\n",
    "                     cmap='viridis_r',\n",
    "                     alpha=0.7)\n",
    "\n",
    "plt.colorbar(scatter, label='P-value')\n",
    "plt.axhline(y=chi2_threshold, color='red', linestyle='--', label=f'阈值 (χ²={chi2_threshold})')\n",
    "plt.xticks(range(len(chi2_results)), chi2_results['Feature'], rotation=45, ha='right')\n",
    "plt.ylabel('卡方值')\n",
    "plt.title('特征显著性分布')\n",
    "plt.legend()\n",
    "plt.tight_layout()\n",
    "plt.show()"
   ]
  },
  {
   "cell_type": "code",
   "execution_count": 103,
   "metadata": {},
   "outputs": [],
   "source": [
    "# 对特定重要特征进行详细可视化\n",
    "important_feature = 'referral source'  # 替换为实际重要特征名\n",
    "\n",
    "if important_feature in categorical_cols:\n",
    "    contingency = pd.crosstab(train_df[important_feature], y_encoded)\n",
    "    \n",
    "    fig, (ax1, ax2) = plt.subplots(1, 2, figsize=(15, 5))\n",
    "    \n",
    "    # 观测频数堆叠图\n",
    "    contingency.plot(kind='bar', stacked=True, ax=ax1)\n",
    "    ax1.set_title(f'{important_feature} - 观测频数分布')\n",
    "    ax1.legend(title='目标变量')\n",
    "    \n",
    "    # 比例堆叠图\n",
    "    (contingency.div(contingency.sum(axis=1), axis=0)).plot(kind='bar', stacked=True, ax=ax2)\n",
    "    ax2.set_title(f'{important_feature} - 类别比例分布')\n",
    "    ax2.legend(title='目标变量')\n",
    "    \n",
    "    plt.tight_layout()\n",
    "    plt.show()"
   ]
  },
  {
   "cell_type": "markdown",
   "metadata": {},
   "source": [
    "#### 4.1.3 特征选择"
   ]
  },
  {
   "cell_type": "code",
   "execution_count": 104,
   "metadata": {},
   "outputs": [],
   "source": [
    "# 设定相关性阈值\n",
    "corr_threshold = 0.1  # 皮尔逊相关系数绝对值阈值\n",
    "chi2_threshold = 5.0  # 卡方值阈值"
   ]
  },
  {
   "cell_type": "code",
   "execution_count": 105,
   "metadata": {},
   "outputs": [
    {
     "name": "stdout",
     "output_type": "stream",
     "text": [
      "\n",
      "=== 选择的特征（共10个） ===\n",
      "['Oldpeak', 'Age', 'RestingBP', 'MaxHR', 'ST_Slope', 'ChestPainType', 'ExerciseAngina', 'Sex', 'FastingBS', 'RestingECG']\n"
     ]
    }
   ],
   "source": [
    "# 选择高相关性数值特征\n",
    "selected_numerical = numerical_corr[abs(numerical_corr) >= corr_threshold].index.tolist()\n",
    "# 选择高相关性分类型特征\n",
    "selected_categorical = chi2_results[chi2_results['Chi2 Score'] >= chi2_threshold]['Feature'].tolist()\n",
    "\n",
    "# 合并选择的特征\n",
    "selected_features = selected_numerical + selected_categorical\n",
    "print(f\"\\n=== 选择的特征（共{len(selected_features)}个） ===\")\n",
    "print(selected_features)"
   ]
  },
  {
   "cell_type": "code",
   "execution_count": 106,
   "metadata": {},
   "outputs": [],
   "source": [
    "# 生成仅包含选中特征的数据集\n",
    "train_df_selected = train_df_std[selected_features]"
   ]
  },
  {
   "cell_type": "code",
   "execution_count": null,
   "metadata": {},
   "outputs": [],
   "source": []
  },
  {
   "cell_type": "markdown",
   "metadata": {},
   "source": [
    "### 4.2 特征构造 ---- 基于数据变换"
   ]
  },
  {
   "cell_type": "markdown",
   "metadata": {},
   "source": [
    "#### 4.2.1 特征组合"
   ]
  },
  {
   "cell_type": "code",
   "execution_count": 107,
   "metadata": {},
   "outputs": [],
   "source": [
    "import pandas as pd\n",
    "import numpy as np\n",
    "import matplotlib.pyplot as plt\n",
    "import seaborn as sns\n",
    "from sklearn.preprocessing import StandardScaler\n",
    "\n",
    "def general_feature_engineering(data, numerical_cols, categorical_cols):\n",
    "    \"\"\" \n",
    "    参数:\n",
    "        data: 原始数据集\n",
    "        numerical_cols: 数值型特征列名列表\n",
    "        categorical_cols: 分类型特征列名列表\n",
    "        target_col: 目标变量列名（可选，用于生成与目标的交互特征）\n",
    "    返回:\n",
    "        包含新特征的数据集\n",
    "    \"\"\"\n",
    "    df = data.copy()    # 复制原始数据避免修改\n",
    "    new_features = pd.DataFrame(index=df.index)\n",
    "    \n",
    "    # ==============================================\n",
    "    # 1. 数值型特征的变换\n",
    "    # ==============================================\n",
    "    print(\"=== 数值型特征变换 ===\")\n",
    "    if numerical_cols:\n",
    "        # 1.1 基础数学变换\n",
    "        for col in numerical_cols:\n",
    "            # 避免除以零和对数负数问题\n",
    "            if (df[col] >= 0).all():\n",
    "                new_features[f'{col}_log'] = np.log1p(df[col])  # log(1+x)变换\n",
    "                new_features[f'{col}_sqrt'] = np.sqrt(df[col] + 1e-6)  # 开方变换\n",
    "            \n",
    "            new_features[f'{col}_square'] = df[col] **2  # 平方变换\n",
    "            new_features[f'{col}_reciprocal'] = 1 / (df[col] + 1e-6)  # 倒数变换\n",
    "\n",
    "        # 1.2 数值特征间的组合（前5对高相关特征自动组合）\n",
    "        if len(numerical_cols) >= 2:\n",
    "            # 计算相关性矩阵筛选高相关特征对\n",
    "            corr_matrix = df[numerical_cols].corr().abs()\n",
    "            # 提取上三角矩阵并筛选高相关对\n",
    "            high_corr_pairs = []\n",
    "            for i in range(len(numerical_cols)):\n",
    "                for j in range(i+1, len(numerical_cols)):\n",
    "                    if corr_matrix.iloc[i, j] > 0.3:  # 相关系数阈值\n",
    "                        high_corr_pairs.append((numerical_cols[i], numerical_cols[j]))\n",
    "            \n",
    "            # 最多处理10对组合避免特征爆炸\n",
    "            high_corr_pairs = high_corr_pairs[:10]\n",
    "            print(f\"选择 {len(high_corr_pairs)} 对高相关特征进行组合\")\n",
    "            \n",
    "            # 生成组合特征\n",
    "            for col1, col2 in high_corr_pairs:\n",
    "                new_features[f'{col1}_plus_{col2}'] = df[col1] + df[col2]\n",
    "                new_features[f'{col1}_minus_{col2}'] = df[col1] - df[col2]\n",
    "                new_features[f'{col1}_times_{col2}'] = df[col1] * df[col2]\n",
    "                new_features[f'{col1}_div_{col2}'] = df[col1] / (df[col2] + 1e-6)\n",
    "\n",
    "        # 1.3 统计属性特征\n",
    "        # 行级统计（每个样本的统计量）\n",
    "        new_features['num_mean'] = df[numerical_cols].mean(axis=1)  # 数值特征均值\n",
    "        new_features['num_std'] = df[numerical_cols].std(axis=1)   # 数值特征标准差\n",
    "        new_features['num_max'] = df[numerical_cols].max(axis=1)   # 数值特征最大值\n",
    "        new_features['num_min'] = df[numerical_cols].min(axis=1)   # 数值特征最小值\n",
    "        new_features['num_range'] = new_features['num_max'] - new_features['num_min']  # 极差\n",
    "\n",
    "    # ==============================================\n",
    "    # 2. 分类型特征的变换\n",
    "    # ==============================================\n",
    "    print(\"\\n=== 分类型特征变换 ===\")\n",
    "    if categorical_cols:\n",
    "        # 2.1 类别频率特征（每个类别在数据集中的占比）\n",
    "        for col in categorical_cols:\n",
    "            freq_map = df[col].value_counts(normalize=True).to_dict()\n",
    "            new_features[f'{col}_freq'] = df[col].map(freq_map)  # 类别频率\n",
    "            \n",
    "            # 类别计数（每个类别出现的次数）\n",
    "            count_map = df[col].value_counts().to_dict()\n",
    "            new_features[f'{col}_count'] = df[col].map(count_map)\n",
    "\n",
    "        # 2.2 多类别交叉特征（前3个分类型特征的组合）\n",
    "        if len(categorical_cols) >= 2:\n",
    "            top_cat_cols = categorical_cols[:3]  # 取前3个类别特征\n",
    "            for i in range(len(top_cat_cols)):\n",
    "                for j in range(i+1, len(top_cat_cols)):\n",
    "                    col1, col2 = top_cat_cols[i], top_cat_cols[j]\n",
    "                    new_features[f'{col1}_x_{col2}'] = df[col1].astype(str) + \"_\" + df[col2].astype(str)\n",
    "            \n",
    "            # 对交叉特征进行编码\n",
    "            cross_cols = [col for col in new_features.columns if '_x_' in col]\n",
    "            new_features = pd.get_dummies(new_features, columns=cross_cols, prefix=cross_cols, drop_first=True)\n",
    "\n",
    "    # ==============================================\n",
    "    # 3. 数值-类别交互特征\n",
    "    # ==============================================\n",
    "    if numerical_cols and categorical_cols:\n",
    "        print(\"\\n=== 数值-类别交互特征 ===\")\n",
    "        # 选择1个分类型特征与所有数值特征交互（避免特征过多）\n",
    "        cat_col = categorical_cols[0]\n",
    "        # 计算每个类别的数值特征均值作为参考值\n",
    "        for num_col in numerical_cols:\n",
    "            # 按类别分组的均值\n",
    "            group_mean = df.groupby(cat_col)[num_col].transform('mean')\n",
    "            new_features[f'{num_col}_by_{cat_col}_ratio'] = df[num_col] / (group_mean + 1e-6)  # 与组均值的比值\n",
    "            new_features[f'{num_col}_by_{cat_col}_diff'] = df[num_col] - group_mean  # 与组均值的差值\n",
    "\n",
    "            \n",
    "    # ==============================================\n",
    "    # 合并特征并返回\n",
    "    # ==============================================\n",
    "    # 去除常量特征（标准差为0的特征）\n",
    "    const_features = [col for col in new_features.columns if new_features[col].std() < 1e-6]\n",
    "    if const_features:\n",
    "        print(f\"\\n移除 {len(const_features)} 个常量特征\")\n",
    "        new_features = new_features.drop(columns=const_features)\n",
    "    \n",
    "    # 合并原始数据和新特征\n",
    "    result = pd.concat([df, new_features], axis=1)\n",
    "    print(f\"\\n特征构造完成: 原始特征 {df.shape[1]} 个，新增特征 {new_features.shape[1]} 个，总特征 {result.shape[1]} 个\")\n",
    "    \n",
    "    return result\n"
   ]
  },
  {
   "cell_type": "code",
   "execution_count": 108,
   "metadata": {},
   "outputs": [
    {
     "name": "stdout",
     "output_type": "stream",
     "text": [
      "=== 数值型特征变换 ===\n",
      "选择 1 对高相关特征进行组合\n",
      "\n",
      "=== 分类型特征变换 ===\n",
      "\n",
      "=== 数值-类别交互特征 ===\n",
      "\n",
      "特征构造完成: 原始特征 11 个，新增特征 58 个，总特征 69 个\n"
     ]
    }
   ],
   "source": [
    "# 执行特征构造\n",
    "train_df_features = general_feature_engineering(\n",
    "    data=train_df_std,\n",
    "    numerical_cols=num_cols,\n",
    "    categorical_cols=categorical_cols,\n",
    ")"
   ]
  },
  {
   "cell_type": "code",
   "execution_count": 109,
   "metadata": {},
   "outputs": [
    {
     "data": {
      "application/vnd.microsoft.datawrangler.viewer.v0+json": {
       "columns": [
        {
         "name": "index",
         "rawType": "int64",
         "type": "integer"
        },
        {
         "name": "Age",
         "rawType": "float64",
         "type": "float"
        },
        {
         "name": "Sex",
         "rawType": "object",
         "type": "string"
        },
        {
         "name": "ChestPainType",
         "rawType": "object",
         "type": "string"
        },
        {
         "name": "RestingBP",
         "rawType": "float64",
         "type": "float"
        },
        {
         "name": "Cholesterol",
         "rawType": "float64",
         "type": "float"
        },
        {
         "name": "FastingBS",
         "rawType": "int64",
         "type": "integer"
        },
        {
         "name": "RestingECG",
         "rawType": "object",
         "type": "string"
        },
        {
         "name": "MaxHR",
         "rawType": "float64",
         "type": "float"
        },
        {
         "name": "ExerciseAngina",
         "rawType": "object",
         "type": "string"
        },
        {
         "name": "Oldpeak",
         "rawType": "float64",
         "type": "float"
        },
        {
         "name": "ST_Slope",
         "rawType": "object",
         "type": "string"
        },
        {
         "name": "Age_square",
         "rawType": "float64",
         "type": "float"
        },
        {
         "name": "Age_reciprocal",
         "rawType": "float64",
         "type": "float"
        },
        {
         "name": "RestingBP_square",
         "rawType": "float64",
         "type": "float"
        },
        {
         "name": "RestingBP_reciprocal",
         "rawType": "float64",
         "type": "float"
        },
        {
         "name": "Cholesterol_square",
         "rawType": "float64",
         "type": "float"
        },
        {
         "name": "Cholesterol_reciprocal",
         "rawType": "float64",
         "type": "float"
        },
        {
         "name": "MaxHR_square",
         "rawType": "float64",
         "type": "float"
        },
        {
         "name": "MaxHR_reciprocal",
         "rawType": "float64",
         "type": "float"
        },
        {
         "name": "Oldpeak_square",
         "rawType": "float64",
         "type": "float"
        },
        {
         "name": "Oldpeak_reciprocal",
         "rawType": "float64",
         "type": "float"
        },
        {
         "name": "Age_plus_MaxHR",
         "rawType": "float64",
         "type": "float"
        },
        {
         "name": "Age_minus_MaxHR",
         "rawType": "float64",
         "type": "float"
        },
        {
         "name": "Age_times_MaxHR",
         "rawType": "float64",
         "type": "float"
        },
        {
         "name": "Age_div_MaxHR",
         "rawType": "float64",
         "type": "float"
        },
        {
         "name": "num_mean",
         "rawType": "float64",
         "type": "float"
        },
        {
         "name": "num_std",
         "rawType": "float64",
         "type": "float"
        },
        {
         "name": "num_max",
         "rawType": "float64",
         "type": "float"
        },
        {
         "name": "num_min",
         "rawType": "float64",
         "type": "float"
        },
        {
         "name": "num_range",
         "rawType": "float64",
         "type": "float"
        },
        {
         "name": "FastingBS_freq",
         "rawType": "float64",
         "type": "float"
        },
        {
         "name": "FastingBS_count",
         "rawType": "int64",
         "type": "integer"
        },
        {
         "name": "Sex_freq",
         "rawType": "float64",
         "type": "float"
        },
        {
         "name": "Sex_count",
         "rawType": "int64",
         "type": "integer"
        },
        {
         "name": "ChestPainType_freq",
         "rawType": "float64",
         "type": "float"
        },
        {
         "name": "ChestPainType_count",
         "rawType": "int64",
         "type": "integer"
        },
        {
         "name": "RestingECG_freq",
         "rawType": "float64",
         "type": "float"
        },
        {
         "name": "RestingECG_count",
         "rawType": "int64",
         "type": "integer"
        },
        {
         "name": "ExerciseAngina_freq",
         "rawType": "float64",
         "type": "float"
        },
        {
         "name": "ExerciseAngina_count",
         "rawType": "int64",
         "type": "integer"
        },
        {
         "name": "ST_Slope_freq",
         "rawType": "float64",
         "type": "float"
        },
        {
         "name": "ST_Slope_count",
         "rawType": "int64",
         "type": "integer"
        },
        {
         "name": "FastingBS_x_Sex_0_M",
         "rawType": "bool",
         "type": "boolean"
        },
        {
         "name": "FastingBS_x_Sex_1_F",
         "rawType": "bool",
         "type": "boolean"
        },
        {
         "name": "FastingBS_x_Sex_1_M",
         "rawType": "bool",
         "type": "boolean"
        },
        {
         "name": "FastingBS_x_ChestPainType_0_ATA",
         "rawType": "bool",
         "type": "boolean"
        },
        {
         "name": "FastingBS_x_ChestPainType_0_NAP",
         "rawType": "bool",
         "type": "boolean"
        },
        {
         "name": "FastingBS_x_ChestPainType_0_TA",
         "rawType": "bool",
         "type": "boolean"
        },
        {
         "name": "FastingBS_x_ChestPainType_1_ASY",
         "rawType": "bool",
         "type": "boolean"
        },
        {
         "name": "FastingBS_x_ChestPainType_1_ATA",
         "rawType": "bool",
         "type": "boolean"
        },
        {
         "name": "FastingBS_x_ChestPainType_1_NAP",
         "rawType": "bool",
         "type": "boolean"
        },
        {
         "name": "FastingBS_x_ChestPainType_1_TA",
         "rawType": "bool",
         "type": "boolean"
        },
        {
         "name": "Sex_x_ChestPainType_F_ATA",
         "rawType": "bool",
         "type": "boolean"
        },
        {
         "name": "Sex_x_ChestPainType_F_NAP",
         "rawType": "bool",
         "type": "boolean"
        },
        {
         "name": "Sex_x_ChestPainType_F_TA",
         "rawType": "bool",
         "type": "boolean"
        },
        {
         "name": "Sex_x_ChestPainType_M_ASY",
         "rawType": "bool",
         "type": "boolean"
        },
        {
         "name": "Sex_x_ChestPainType_M_ATA",
         "rawType": "bool",
         "type": "boolean"
        },
        {
         "name": "Sex_x_ChestPainType_M_NAP",
         "rawType": "bool",
         "type": "boolean"
        },
        {
         "name": "Sex_x_ChestPainType_M_TA",
         "rawType": "bool",
         "type": "boolean"
        },
        {
         "name": "Age_by_FastingBS_ratio",
         "rawType": "float64",
         "type": "float"
        },
        {
         "name": "Age_by_FastingBS_diff",
         "rawType": "float64",
         "type": "float"
        },
        {
         "name": "RestingBP_by_FastingBS_ratio",
         "rawType": "float64",
         "type": "float"
        },
        {
         "name": "RestingBP_by_FastingBS_diff",
         "rawType": "float64",
         "type": "float"
        },
        {
         "name": "Cholesterol_by_FastingBS_ratio",
         "rawType": "float64",
         "type": "float"
        },
        {
         "name": "Cholesterol_by_FastingBS_diff",
         "rawType": "float64",
         "type": "float"
        },
        {
         "name": "MaxHR_by_FastingBS_ratio",
         "rawType": "float64",
         "type": "float"
        },
        {
         "name": "MaxHR_by_FastingBS_diff",
         "rawType": "float64",
         "type": "float"
        },
        {
         "name": "Oldpeak_by_FastingBS_ratio",
         "rawType": "float64",
         "type": "float"
        },
        {
         "name": "Oldpeak_by_FastingBS_diff",
         "rawType": "float64",
         "type": "float"
        }
       ],
       "ref": "3d5847a0-3897-452d-9bd6-8f02f6a48e37",
       "rows": [
        [
         "0",
         "-1.4323590105189492",
         "M",
         "ATA",
         "0.5719280233332149",
         "1.1125971418264564",
         "0",
         "Normal",
         "1.388976959722657",
         "N",
         "-0.8657659034821106",
         "Up",
         "2.0516523350148232",
         "-0.6981494798480554",
         "0.32710166387383843",
         "1.748468707134284",
         "1.2378724000004",
         "0.8987971149748518",
         "1.9292569946403952",
         "0.7199538286407902",
         "0.7495505996321952",
         "-1.1550479766250574",
         "-0.043382050796292315",
         "-2.821335970241606",
         "-1.9895136636619632",
         "-1.0312323536112513",
         "0.15507544217625369",
         "1.2424966830268451",
         "1.388976959722657",
         "-1.4323590105189492",
         "2.821335970241606",
         "0.7668845315904139",
         "704",
         "0.789760348583878",
         "725",
         "0.18845315904139434",
         "173",
         "0.6013071895424836",
         "552",
         "0.5958605664488017",
         "547",
         "0.43028322440087147",
         "395",
         "True",
         "False",
         "False",
         "True",
         "False",
         "False",
         "False",
         "False",
         "False",
         "False",
         "False",
         "False",
         "False",
         "False",
         "True",
         "False",
         "False",
         "13.12565880063572",
         "-1.323231372970701",
         "-21.07589324651245",
         "0.5990656204227762",
         "66.15296717488178",
         "1.0957795894721047",
         "18.484947060676408",
         "1.3138369839241668",
         "19.07864452304454",
         "-0.8203861082308873"
        ],
        [
         "1",
         "-0.47822290272990164",
         "F",
         "NAP",
         "1.8542089499906622",
         "-1.239583192114783",
         "0",
         "Normal",
         "0.7544505357239512",
         "N",
         "0.17806532766653332",
         "Flat",
         "0.22869714469541297",
         "-2.0910794639299426",
         "3.438090830225474",
         "0.5393132530677208",
         "1.5365664901734752",
         "-0.806723431783055",
         "0.5691956108541569",
         "1.3254661865595212",
         "0.03170726091698988",
         "5.615884895838985",
         "0.2762276329940495",
         "-1.232673438453853",
         "-0.36079552516003727",
         "-0.6338682872068276",
         "0.2137837437072924",
         "1.180650233081117",
         "1.8542089499906622",
         "-1.239583192114783",
         "3.0937921421054453",
         "0.7668845315904139",
         "704",
         "0.210239651416122",
         "193",
         "0.22113289760348584",
         "203",
         "0.6013071895424836",
         "552",
         "0.5958605664488017",
         "547",
         "0.5010893246187363",
         "460",
         "False",
         "False",
         "False",
         "False",
         "True",
         "False",
         "False",
         "False",
         "False",
         "False",
         "False",
         "True",
         "False",
         "False",
         "False",
         "False",
         "False",
         "4.382274699139929",
         "-0.36909526518165336",
         "-68.32872021024049",
         "1.8813465470802235",
         "-73.70332273538696",
         "-1.2564007444691347",
         "10.040467637087982",
         "0.6793105599254611",
         "-3.923976533108451",
         "0.2234451229177566"
        ],
        [
         "2",
         "-1.750404379781965",
         "M",
         "ATA",
         "-0.06921243999550881",
         "0.9831193252792322",
         "0",
         "ST",
         "-1.5457077512713573",
         "N",
         "-0.8657659034821106",
         "Up",
         "3.063915492759886",
         "-0.5712968859352652",
         "0.004790361850131908",
         "-14.448478460567946",
         "0.9665236077374927",
         "1.0171694901292714",
         "2.389212452340356",
         "-0.6469532459358744",
         "0.7495505996321952",
         "-1.1550479766250574",
         "-3.2961121310533223",
         "-0.20469662851060777",
         "2.705613617688316",
         "1.1324297952003135",
         "-0.6495942298503419",
         "1.12518100733235",
         "0.9831193252792322",
         "-1.750404379781965",
         "2.7335237050611974",
         "0.7668845315904139",
         "704",
         "0.789760348583878",
         "725",
         "0.18845315904139434",
         "173",
         "0.19389978213507625",
         "178",
         "0.5958605664488017",
         "547",
         "0.43028322440087147",
         "395",
         "True",
         "False",
         "False",
         "True",
         "False",
         "False",
         "False",
         "False",
         "False",
         "False",
         "False",
         "False",
         "False",
         "False",
         "True",
         "False",
         "False",
         "16.040120167800985",
         "-1.641276742233717",
         "2.550520235351575",
         "-0.042074842905947485",
         "58.45445580367432",
         "0.9663017729248805",
         "-20.57077027342007",
         "-1.6208477270698474",
         "19.07864452304454",
         "-0.8203861082308873"
        ],
        [
         "3",
         "-0.5842380258175736",
         "F",
         "ASY",
         "0.44369993066747015",
         "-0.505875565013846",
         "0",
         "Normal",
         "-1.1491287362721663",
         "Y",
         "0.6999809432408552",
         "Flat",
         "0.34133407081121575",
         "-1.711634072833048",
         "0.19686962847431783",
         "2.2537703459302545",
         "0.25591008727807796",
         "-1.9767746179779362",
         "1.3204968525264658",
         "-0.8702252747323418",
         "0.4899733209003574",
         "1.428608280050893",
         "-1.73336676208974",
         "0.5648907104545927",
         "0.6713647042898936",
         "0.508418696526179",
         "-0.21911229063905208",
         "0.7688519006357747",
         "0.6999809432408552",
         "-1.1491287362721663",
         "1.8491096795130215",
         "0.7668845315904139",
         "704",
         "0.210239651416122",
         "193",
         "0.5403050108932462",
         "496",
         "0.6013071895424836",
         "552",
         "0.40413943355119825",
         "371",
         "0.5010893246187363",
         "460",
         "False",
         "False",
         "False",
         "False",
         "False",
         "False",
         "False",
         "False",
         "False",
         "False",
         "False",
         "False",
         "False",
         "False",
         "False",
         "False",
         "False",
         "5.35376182152835",
         "-0.4751103882693253",
         "-16.350610550139642",
         "0.47083752775703147",
         "-30.078424965211394",
         "-0.5226931173681977",
         "-15.292970633677305",
         "-1.2242687120706564",
         "-15.425287061184948",
         "0.7453607384920785"
        ],
        [
         "4",
         "0.05185271270845817",
         "M",
         "NAP",
         "1.2130684866619386",
         "-0.9158886507467225",
         "0",
         "Normal",
         "-0.5939181152732986",
         "N",
         "-0.8657659034821106",
         "Up",
         "0.002688703815225899",
         "19.285022185824776",
         "1.4715351533322858",
         "0.8243550851746737",
         "0.8388520205666519",
         "-1.0918369727823065",
         "0.35273872764978725",
         "-1.6837366263469897",
         "0.7495505996321952",
         "-1.1550479766250574",
         "-0.5420654025648405",
         "0.6457708279817568",
         "-0.030796265403615297",
         "-0.08730631156267904",
         "-0.22213029402634699",
         "0.8900359357035801",
         "1.2130684866619386",
         "-0.9158886507467225",
         "2.128957137408661",
         "0.7668845315904139",
         "704",
         "0.789760348583878",
         "725",
         "0.22113289760348584",
         "203",
         "0.6013071895424836",
         "552",
         "0.5958605664488017",
         "547",
         "0.43028322440087147",
         "395",
         "True",
         "False",
         "False",
         "False",
         "True",
         "False",
         "False",
         "False",
         "False",
         "False",
         "False",
         "False",
         "False",
         "False",
         "False",
         "True",
         "False",
         "-0.4751609128021789",
         "0.16098035025670643",
         "-44.70230672837647",
         "1.2402060837514999",
         "-54.45704430736832",
         "-0.9327062031010742",
         "-7.9040511380374285",
         "-0.6690580910717887",
         "19.07864452304454",
         "-0.8203861082308873"
        ]
       ],
       "shape": {
        "columns": 69,
        "rows": 5
       }
      },
      "text/html": [
       "<div>\n",
       "<style scoped>\n",
       "    .dataframe tbody tr th:only-of-type {\n",
       "        vertical-align: middle;\n",
       "    }\n",
       "\n",
       "    .dataframe tbody tr th {\n",
       "        vertical-align: top;\n",
       "    }\n",
       "\n",
       "    .dataframe thead th {\n",
       "        text-align: right;\n",
       "    }\n",
       "</style>\n",
       "<table border=\"1\" class=\"dataframe\">\n",
       "  <thead>\n",
       "    <tr style=\"text-align: right;\">\n",
       "      <th></th>\n",
       "      <th>Age</th>\n",
       "      <th>Sex</th>\n",
       "      <th>ChestPainType</th>\n",
       "      <th>RestingBP</th>\n",
       "      <th>Cholesterol</th>\n",
       "      <th>FastingBS</th>\n",
       "      <th>RestingECG</th>\n",
       "      <th>MaxHR</th>\n",
       "      <th>ExerciseAngina</th>\n",
       "      <th>Oldpeak</th>\n",
       "      <th>...</th>\n",
       "      <th>Age_by_FastingBS_ratio</th>\n",
       "      <th>Age_by_FastingBS_diff</th>\n",
       "      <th>RestingBP_by_FastingBS_ratio</th>\n",
       "      <th>RestingBP_by_FastingBS_diff</th>\n",
       "      <th>Cholesterol_by_FastingBS_ratio</th>\n",
       "      <th>Cholesterol_by_FastingBS_diff</th>\n",
       "      <th>MaxHR_by_FastingBS_ratio</th>\n",
       "      <th>MaxHR_by_FastingBS_diff</th>\n",
       "      <th>Oldpeak_by_FastingBS_ratio</th>\n",
       "      <th>Oldpeak_by_FastingBS_diff</th>\n",
       "    </tr>\n",
       "  </thead>\n",
       "  <tbody>\n",
       "    <tr>\n",
       "      <th>0</th>\n",
       "      <td>-1.432359</td>\n",
       "      <td>M</td>\n",
       "      <td>ATA</td>\n",
       "      <td>0.571928</td>\n",
       "      <td>1.112597</td>\n",
       "      <td>0</td>\n",
       "      <td>Normal</td>\n",
       "      <td>1.388977</td>\n",
       "      <td>N</td>\n",
       "      <td>-0.865766</td>\n",
       "      <td>...</td>\n",
       "      <td>13.125659</td>\n",
       "      <td>-1.323231</td>\n",
       "      <td>-21.075893</td>\n",
       "      <td>0.599066</td>\n",
       "      <td>66.152967</td>\n",
       "      <td>1.095780</td>\n",
       "      <td>18.484947</td>\n",
       "      <td>1.313837</td>\n",
       "      <td>19.078645</td>\n",
       "      <td>-0.820386</td>\n",
       "    </tr>\n",
       "    <tr>\n",
       "      <th>1</th>\n",
       "      <td>-0.478223</td>\n",
       "      <td>F</td>\n",
       "      <td>NAP</td>\n",
       "      <td>1.854209</td>\n",
       "      <td>-1.239583</td>\n",
       "      <td>0</td>\n",
       "      <td>Normal</td>\n",
       "      <td>0.754451</td>\n",
       "      <td>N</td>\n",
       "      <td>0.178065</td>\n",
       "      <td>...</td>\n",
       "      <td>4.382275</td>\n",
       "      <td>-0.369095</td>\n",
       "      <td>-68.328720</td>\n",
       "      <td>1.881347</td>\n",
       "      <td>-73.703323</td>\n",
       "      <td>-1.256401</td>\n",
       "      <td>10.040468</td>\n",
       "      <td>0.679311</td>\n",
       "      <td>-3.923977</td>\n",
       "      <td>0.223445</td>\n",
       "    </tr>\n",
       "    <tr>\n",
       "      <th>2</th>\n",
       "      <td>-1.750404</td>\n",
       "      <td>M</td>\n",
       "      <td>ATA</td>\n",
       "      <td>-0.069212</td>\n",
       "      <td>0.983119</td>\n",
       "      <td>0</td>\n",
       "      <td>ST</td>\n",
       "      <td>-1.545708</td>\n",
       "      <td>N</td>\n",
       "      <td>-0.865766</td>\n",
       "      <td>...</td>\n",
       "      <td>16.040120</td>\n",
       "      <td>-1.641277</td>\n",
       "      <td>2.550520</td>\n",
       "      <td>-0.042075</td>\n",
       "      <td>58.454456</td>\n",
       "      <td>0.966302</td>\n",
       "      <td>-20.570770</td>\n",
       "      <td>-1.620848</td>\n",
       "      <td>19.078645</td>\n",
       "      <td>-0.820386</td>\n",
       "    </tr>\n",
       "    <tr>\n",
       "      <th>3</th>\n",
       "      <td>-0.584238</td>\n",
       "      <td>F</td>\n",
       "      <td>ASY</td>\n",
       "      <td>0.443700</td>\n",
       "      <td>-0.505876</td>\n",
       "      <td>0</td>\n",
       "      <td>Normal</td>\n",
       "      <td>-1.149129</td>\n",
       "      <td>Y</td>\n",
       "      <td>0.699981</td>\n",
       "      <td>...</td>\n",
       "      <td>5.353762</td>\n",
       "      <td>-0.475110</td>\n",
       "      <td>-16.350611</td>\n",
       "      <td>0.470838</td>\n",
       "      <td>-30.078425</td>\n",
       "      <td>-0.522693</td>\n",
       "      <td>-15.292971</td>\n",
       "      <td>-1.224269</td>\n",
       "      <td>-15.425287</td>\n",
       "      <td>0.745361</td>\n",
       "    </tr>\n",
       "    <tr>\n",
       "      <th>4</th>\n",
       "      <td>0.051853</td>\n",
       "      <td>M</td>\n",
       "      <td>NAP</td>\n",
       "      <td>1.213068</td>\n",
       "      <td>-0.915889</td>\n",
       "      <td>0</td>\n",
       "      <td>Normal</td>\n",
       "      <td>-0.593918</td>\n",
       "      <td>N</td>\n",
       "      <td>-0.865766</td>\n",
       "      <td>...</td>\n",
       "      <td>-0.475161</td>\n",
       "      <td>0.160980</td>\n",
       "      <td>-44.702307</td>\n",
       "      <td>1.240206</td>\n",
       "      <td>-54.457044</td>\n",
       "      <td>-0.932706</td>\n",
       "      <td>-7.904051</td>\n",
       "      <td>-0.669058</td>\n",
       "      <td>19.078645</td>\n",
       "      <td>-0.820386</td>\n",
       "    </tr>\n",
       "  </tbody>\n",
       "</table>\n",
       "<p>5 rows × 69 columns</p>\n",
       "</div>"
      ],
      "text/plain": [
       "        Age Sex ChestPainType  RestingBP  Cholesterol  FastingBS RestingECG  \\\n",
       "0 -1.432359   M           ATA   0.571928     1.112597          0     Normal   \n",
       "1 -0.478223   F           NAP   1.854209    -1.239583          0     Normal   \n",
       "2 -1.750404   M           ATA  -0.069212     0.983119          0         ST   \n",
       "3 -0.584238   F           ASY   0.443700    -0.505876          0     Normal   \n",
       "4  0.051853   M           NAP   1.213068    -0.915889          0     Normal   \n",
       "\n",
       "      MaxHR ExerciseAngina   Oldpeak  ... Age_by_FastingBS_ratio  \\\n",
       "0  1.388977              N -0.865766  ...              13.125659   \n",
       "1  0.754451              N  0.178065  ...               4.382275   \n",
       "2 -1.545708              N -0.865766  ...              16.040120   \n",
       "3 -1.149129              Y  0.699981  ...               5.353762   \n",
       "4 -0.593918              N -0.865766  ...              -0.475161   \n",
       "\n",
       "   Age_by_FastingBS_diff  RestingBP_by_FastingBS_ratio  \\\n",
       "0              -1.323231                    -21.075893   \n",
       "1              -0.369095                    -68.328720   \n",
       "2              -1.641277                      2.550520   \n",
       "3              -0.475110                    -16.350611   \n",
       "4               0.160980                    -44.702307   \n",
       "\n",
       "   RestingBP_by_FastingBS_diff  Cholesterol_by_FastingBS_ratio  \\\n",
       "0                     0.599066                       66.152967   \n",
       "1                     1.881347                      -73.703323   \n",
       "2                    -0.042075                       58.454456   \n",
       "3                     0.470838                      -30.078425   \n",
       "4                     1.240206                      -54.457044   \n",
       "\n",
       "   Cholesterol_by_FastingBS_diff  MaxHR_by_FastingBS_ratio  \\\n",
       "0                       1.095780                 18.484947   \n",
       "1                      -1.256401                 10.040468   \n",
       "2                       0.966302                -20.570770   \n",
       "3                      -0.522693                -15.292971   \n",
       "4                      -0.932706                 -7.904051   \n",
       "\n",
       "   MaxHR_by_FastingBS_diff  Oldpeak_by_FastingBS_ratio  \\\n",
       "0                 1.313837                   19.078645   \n",
       "1                 0.679311                   -3.923977   \n",
       "2                -1.620848                   19.078645   \n",
       "3                -1.224269                  -15.425287   \n",
       "4                -0.669058                   19.078645   \n",
       "\n",
       "   Oldpeak_by_FastingBS_diff  \n",
       "0                  -0.820386  \n",
       "1                   0.223445  \n",
       "2                  -0.820386  \n",
       "3                   0.745361  \n",
       "4                  -0.820386  \n",
       "\n",
       "[5 rows x 69 columns]"
      ]
     },
     "execution_count": 109,
     "metadata": {},
     "output_type": "execute_result"
    }
   ],
   "source": [
    "train_df_features.head()"
   ]
  },
  {
   "cell_type": "markdown",
   "metadata": {},
   "source": [
    "#### 4.2.2 构造后的特征类型识别"
   ]
  },
  {
   "cell_type": "code",
   "execution_count": 110,
   "metadata": {
    "scrolled": false
   },
   "outputs": [],
   "source": [
    "# 识别数值型特征\n",
    "numeric_cols_features = train_df_features.select_dtypes(include=[np.number]).columns \n",
    "\n",
    "potential_categorical_features = []\n",
    "num_cols_features = []  # 真正的连续数值特征\n",
    "\n",
    "for col in numeric_cols_features:\n",
    "    if train_df_features[col].nunique() <= 11 :\n",
    "        potential_categorical_features.append(col)\n",
    "    else:\n",
    "        num_cols_features.append(col)\n",
    "\n",
    "text_cols_features = train_df_features.select_dtypes(include=['object', 'category']).columns.tolist() \n",
    "\n",
    "# 数值型分类特征与文本特征汇总为分类特征\n",
    "if len(potential_categorical_features)==0:\n",
    "    categorical_cols_features = text_cols_features\n",
    "else:\n",
    "    categorical_cols_features = potential_categorical_features + text_cols_features"
   ]
  },
  {
   "cell_type": "markdown",
   "metadata": {},
   "source": [
    "#### 4.2.3 对构造后的特征进行相关性计算"
   ]
  },
  {
   "cell_type": "code",
   "execution_count": 111,
   "metadata": {
    "collapsed": true
   },
   "outputs": [
    {
     "name": "stdout",
     "output_type": "stream",
     "text": [
      "=== 数值型特征与目标变量的皮尔逊相关系数 ===\n",
      "Age_minus_MaxHR                   0.4089\n",
      "Oldpeak                           0.4036\n",
      "Oldpeak_by_FastingBS_diff         0.3829\n",
      "Age                               0.2820\n",
      "Age_by_FastingBS_diff             0.2337\n",
      "Oldpeak_square                    0.2039\n",
      "num_mean                          0.1882\n",
      "Oldpeak_reciprocal                0.1266\n",
      "num_max                           0.1080\n",
      "RestingBP                         0.1080\n",
      "RestingBP_by_FastingBS_diff       0.0950\n",
      "Age_times_MaxHR                   0.0902\n",
      "RestingBP_square                  0.0831\n",
      "num_min                           0.0608\n",
      "Cholesterol_by_FastingBS_ratio    0.0563\n",
      "Cholesterol_by_FastingBS_diff     0.0543\n",
      "num_range                         0.0471\n",
      "Cholesterol                       0.0461\n",
      "Age_reciprocal                    0.0424\n",
      "num_std                           0.0383\n",
      "RestingBP_reciprocal              0.0004\n",
      "Age_div_MaxHR                    -0.0116\n",
      "Cholesterol_square               -0.0288\n",
      "MaxHR_square                     -0.0358\n",
      "Age_square                       -0.0707\n",
      "Cholesterol_reciprocal           -0.0861\n",
      "MaxHR_reciprocal                 -0.1032\n",
      "Age_plus_MaxHR                   -0.1048\n",
      "RestingBP_by_FastingBS_ratio     -0.1148\n",
      "Age_by_FastingBS_ratio           -0.2459\n",
      "MaxHR_by_FastingBS_ratio         -0.3238\n",
      "MaxHR_by_FastingBS_diff          -0.3653\n",
      "Oldpeak_by_FastingBS_ratio       -0.3731\n",
      "MaxHR                            -0.3984\n",
      "dtype: float64\n"
     ]
    }
   ],
   "source": [
    "# 1. 数值型特征与目标变量的皮尔逊相关系数\n",
    "print(\"=== 数值型特征与目标变量的皮尔逊相关系数 ===\")\n",
    "y_series = pd.Series(y_encoded, name='target')\n",
    "numerical_corr = train_df_features[num_cols_features].corrwith(y_series)\n",
    "numerical_corr = numerical_corr.sort_values(ascending=False)\n",
    "print(numerical_corr.round(4))"
   ]
  },
  {
   "cell_type": "code",
   "execution_count": 112,
   "metadata": {},
   "outputs": [
    {
     "data": {
      "image/png": "[encoded data removed]",
      "text/plain": [
       "<Figure size 1200x600 with 1 Axes>"
      ]
     },
     "metadata": {},
     "output_type": "display_data"
    }
   ],
   "source": [
    "# 可视化皮尔逊相关系数\n",
    "plt.figure(figsize=(12, 6))\n",
    "sns.barplot(x=numerical_corr.index, y=numerical_corr.values)\n",
    "plt.title('数值型特征与目标变量的皮尔逊相关系数(特征构造)')\n",
    "plt.axhline(y=0, color='r', linestyle='--', alpha=0.3)\n",
    "plt.xticks(rotation=45)\n",
    "plt.tight_layout()\n",
    "plt.show()"
   ]
  },
  {
   "cell_type": "code",
   "execution_count": 113,
   "metadata": {},
   "outputs": [
    {
     "name": "stdout",
     "output_type": "stream",
     "text": [
      "\n",
      "=== 分类型特征与目标变量的卡方检验（编码前） ===\n",
      "                 Feature  Chi2 Score  P-value  Significant\n",
      "17              ST_Slope    355.9184      0.0         True\n",
      "12        ST_Slope_count    355.9184      0.0         True\n",
      "11         ST_Slope_freq    355.9184      0.0         True\n",
      "14         ChestPainType    268.0672      0.0         True\n",
      "5     ChestPainType_freq    268.0672      0.0         True\n",
      "6    ChestPainType_count    268.0672      0.0         True\n",
      "10  ExerciseAngina_count    222.2594      0.0         True\n",
      "16        ExerciseAngina    222.2594      0.0         True\n",
      "9    ExerciseAngina_freq    222.2594      0.0         True\n",
      "4              Sex_count     84.1451      0.0         True\n",
      "13                   Sex     84.1451      0.0         True\n",
      "3               Sex_freq     84.1451      0.0         True\n",
      "0              FastingBS     64.3207      0.0         True\n",
      "1         FastingBS_freq     64.3207      0.0         True\n",
      "2        FastingBS_count     64.3207      0.0         True\n"
     ]
    }
   ],
   "source": [
    "# 2. 分类型特征与目标变量的卡方检验（编码前，使用原始分类）\n",
    "from scipy.stats import pointbiserialr, chi2_contingency\n",
    "print(\"\\n=== 分类型特征与目标变量的卡方检验（编码前） ===\")\n",
    "categorical_chi2 = []\n",
    "for col in categorical_cols_features:\n",
    "    # 构建列联表\n",
    "    contingency = pd.crosstab(train_df_features[col], y_encoded)\n",
    "    # 卡方检验\n",
    "    chi2, p, dof, expected = chi2_contingency(contingency)\n",
    "    categorical_chi2.append({\n",
    "        'Feature': col,\n",
    "        'Chi2 Score': chi2,  # 卡方统计量（值越大，相关性越强）\n",
    "        'P-value': p,     # 显著性水平（P < 0.05 表示显著相关）\n",
    "        'Significant': p < 0.05   # 是否显著（布尔值）\n",
    "    })\n",
    "chi2_results = pd.DataFrame(categorical_chi2)\n",
    "\n",
    "# 按卡方值排序（值越大相关性可能越高）\n",
    "chi2_results = chi2_results.sort_values(by='Chi2 Score', ascending=False)\n",
    "print(chi2_results.head(15).round(4))  # 显示前15个特征"
   ]
  },
  {
   "cell_type": "code",
   "execution_count": 114,
   "metadata": {},
   "outputs": [
    {
     "data": {
      "image/png": "[encoded data removed]",
      "text/plain": [
       "<Figure size 1500x1200 with 1 Axes>"
      ]
     },
     "metadata": {},
     "output_type": "display_data"
    }
   ],
   "source": [
    "import matplotlib.pyplot as plt\n",
    "import seaborn as sns\n",
    "import numpy as np\n",
    "\n",
    "plt.figure(figsize=(15, 12))  # 调整图形尺寸以适应转置\n",
    "\n",
    "# 按卡方值排序（改为降序排列，便于阅读）\n",
    "chi2_sorted = chi2_results.sort_values('Chi2 Score', ascending=False)\n",
    "\n",
    "# 创建条形图（转置：使用bar而不是barh）\n",
    "bars = plt.bar(range(len(chi2_sorted)), chi2_sorted['Chi2 Score'], \n",
    "                color=['red' if p < 0.05 else 'gray' for p in chi2_sorted['P-value']])\n",
    "\n",
    "plt.ylabel('卡方值 (Chi2 Score)')  # Y轴标签\n",
    "plt.xlabel('特征名称')  # X轴标签\n",
    "plt.title('分类特征与目标变量的卡方检验结果（特征构造）')\n",
    "plt.grid(axis='y', alpha=0.3)  # 网格线改为Y轴\n",
    "\n",
    "# 设置X轴刻度（特征名称）\n",
    "plt.xticks(range(len(chi2_sorted)), chi2_sorted['Feature'], rotation=45, ha='right')\n",
    "\n",
    "# 添加显著性标记\n",
    "for i, (chi2, p) in enumerate(zip(chi2_sorted['Chi2 Score'], chi2_sorted['P-value'])):\n",
    "    if p < 0.05:\n",
    "        plt.text(i, chi2 + 0.1, '***' if p < 0.001 else '**' if p < 0.01 else '*', \n",
    "                ha='center', fontweight='bold', fontsize=12)\n",
    "\n",
    "# 调整布局防止标签重叠\n",
    "plt.tight_layout()\n",
    "plt.show()"
   ]
  },
  {
   "cell_type": "code",
   "execution_count": 115,
   "metadata": {},
   "outputs": [
    {
     "data": {
      "image/png": "[encoded data removed]",
      "text/plain": [
       "<Figure size 1200x1500 with 1 Axes>"
      ]
     },
     "metadata": {},
     "output_type": "display_data"
    }
   ],
   "source": [
    "import matplotlib.pyplot as plt\n",
    "import seaborn as sns\n",
    "\n",
    "plt.figure(figsize=(12, 15))\n",
    "# 按卡方值排序\n",
    "chi2_sorted = chi2_results.sort_values('Chi2 Score', ascending=True)\n",
    "\n",
    "# 创建条形图\n",
    "bars = plt.barh(chi2_sorted['Feature'], chi2_sorted['Chi2 Score'], \n",
    "                color=['red' if p < 0.05 else 'gray' for p in chi2_sorted['P-value']])\n",
    "\n",
    "plt.xlabel('卡方值 (Chi2 Score)')\n",
    "plt.title('特征与目标变量的卡方检验结果')\n",
    "plt.grid(axis='x', alpha=0.3)\n",
    "\n",
    "# 添加显著性标记\n",
    "for i, (chi2, p) in enumerate(zip(chi2_sorted['Chi2 Score'], chi2_sorted['P-value'])):\n",
    "    if p < 0.05:\n",
    "        plt.text(chi2 + 0.1, i, '***' if p < 0.001 else '**' if p < 0.01 else '*', \n",
    "                va='center', fontweight='bold')\n",
    "\n",
    "plt.tight_layout()\n",
    "plt.show()"
   ]
  },
  {
   "cell_type": "code",
   "execution_count": null,
   "metadata": {},
   "outputs": [],
   "source": []
  },
  {
   "cell_type": "code",
   "execution_count": 116,
   "metadata": {},
   "outputs": [],
   "source": [
    "# 设定相关性阈值\n",
    "corr_threshold = 0.1  # 皮尔逊相关系数绝对值阈值\n",
    "chi2_threshold = 5.0  # 卡方值阈值"
   ]
  },
  {
   "cell_type": "code",
   "execution_count": 117,
   "metadata": {},
   "outputs": [
    {
     "name": "stdout",
     "output_type": "stream",
     "text": [
      "\n",
      "=== 选择的特征（共36个） ===\n",
      "['Age_minus_MaxHR', 'Oldpeak', 'Oldpeak_by_FastingBS_diff', 'Age', 'Age_by_FastingBS_diff', 'Oldpeak_square', 'num_mean', 'Oldpeak_reciprocal', 'num_max', 'RestingBP', 'MaxHR_reciprocal', 'Age_plus_MaxHR', 'RestingBP_by_FastingBS_ratio', 'Age_by_FastingBS_ratio', 'MaxHR_by_FastingBS_ratio', 'MaxHR_by_FastingBS_diff', 'Oldpeak_by_FastingBS_ratio', 'MaxHR', 'ST_Slope', 'ST_Slope_count', 'ST_Slope_freq', 'ChestPainType', 'ChestPainType_freq', 'ChestPainType_count', 'ExerciseAngina_count', 'ExerciseAngina', 'ExerciseAngina_freq', 'Sex_count', 'Sex', 'Sex_freq', 'FastingBS', 'FastingBS_freq', 'FastingBS_count', 'RestingECG_count', 'RestingECG_freq', 'RestingECG']\n"
     ]
    }
   ],
   "source": [
    "# 选择重要特征\n",
    "\n",
    "# 选择高相关性数值特征\n",
    "selected_numerical = numerical_corr[abs(numerical_corr) >= corr_threshold].index.tolist()\n",
    "# 选择高相关性分类型特征\n",
    "selected_categorical = chi2_results[chi2_results['Chi2 Score'] >= chi2_threshold]['Feature'].tolist()\n",
    "\n",
    "# 合并选择的特征\n",
    "selected_features = selected_numerical + selected_categorical\n",
    "print(f\"\\n=== 选择的特征（共{len(selected_features)}个） ===\")\n",
    "print(selected_features)"
   ]
  },
  {
   "cell_type": "code",
   "execution_count": 118,
   "metadata": {},
   "outputs": [],
   "source": [
    "# 生成仅包含选中特征的数据集\n",
    "train_df_selected = train_df_features[selected_features]"
   ]
  },
  {
   "cell_type": "code",
   "execution_count": null,
   "metadata": {
    "scrolled": true
   },
   "outputs": [],
   "source": []
  },
  {
   "cell_type": "code",
   "execution_count": null,
   "metadata": {
    "scrolled": true
   },
   "outputs": [],
   "source": []
  },
  {
   "cell_type": "markdown",
   "metadata": {},
   "source": [
    "### 4.3 特征编码"
   ]
  },
  {
   "cell_type": "code",
   "execution_count": 119,
   "metadata": {},
   "outputs": [],
   "source": [
    "# 识别数值型特征\n",
    "numeric_cols_features = train_df_selected.select_dtypes(include=[np.number]).columns \n",
    "\n",
    "potential_categorical_features = []\n",
    "num_cols_features = []  # 真正的连续数值特征\n",
    "\n",
    "for col in numeric_cols_features:\n",
    "    if train_df_selected[col].nunique() <= 11 :\n",
    "        potential_categorical_features.append(col)\n",
    "    else:\n",
    "        num_cols_features.append(col)\n",
    "\n",
    "text_cols_features = train_df_selected.select_dtypes(include=['object', 'category']).columns.tolist() \n",
    "\n",
    "# 数值型分类特征与文本特征汇总为分类特征\n",
    "if len(potential_categorical_features)==0:\n",
    "    categorical_cols_features = text_cols_features\n",
    "else:\n",
    "    categorical_cols_features = potential_categorical_features + text_cols_features"
   ]
  },
  {
   "cell_type": "markdown",
   "metadata": {},
   "source": [
    "#### 4.3.1 识别二分类和多分类字段"
   ]
  },
  {
   "cell_type": "code",
   "execution_count": 120,
   "metadata": {},
   "outputs": [
    {
     "name": "stdout",
     "output_type": "stream",
     "text": [
      "\n",
      "=== 字段分类 ===\n",
      "二分类字段（采用0-1编码）：['ExerciseAngina_count', 'ExerciseAngina_freq', 'Sex_count', 'Sex_freq', 'FastingBS', 'FastingBS_freq', 'FastingBS_count', 'ExerciseAngina', 'Sex']\n",
      "多分类字段（采用独热编码）：['ST_Slope_count', 'ST_Slope_freq', 'ChestPainType_freq', 'ChestPainType_count', 'RestingECG_count', 'RestingECG_freq', 'ST_Slope', 'ChestPainType', 'RestingECG']\n"
     ]
    }
   ],
   "source": [
    "# 1. 识别二分类和多分类字段\n",
    "binary_cols = []  # 二分类字段（仅两个不同取值）\n",
    "multi_cols = []   # 多分类字段（两个以上不同取值）\n",
    "\n",
    "for col in categorical_cols_features:\n",
    "    unique_vals = train_df_selected[col].nunique()\n",
    "    if unique_vals == 2:\n",
    "        binary_cols.append(col)\n",
    "    else:\n",
    "        multi_cols.append(col)\n",
    "\n",
    "print(\"\\n=== 字段分类 ===\")\n",
    "print(f\"二分类字段（采用0-1编码）：{binary_cols}\")\n",
    "print(f\"多分类字段（采用独热编码）：{multi_cols}\")"
   ]
  },
  {
   "cell_type": "markdown",
   "metadata": {},
   "source": [
    "#### 4.3.2 二分类字段进行0-1编码"
   ]
  },
  {
   "cell_type": "code",
   "execution_count": 121,
   "metadata": {
    "collapsed": true
   },
   "outputs": [
    {
     "name": "stdout",
     "output_type": "stream",
     "text": [
      "\n",
      "ExerciseAngina_count字段0-1编码映射：547→0，371→1\n",
      "\n",
      "ExerciseAngina_freq字段0-1编码映射：0.5958605664488017→0，0.40413943355119825→1\n",
      "\n",
      "Sex_count字段0-1编码映射：725→0，193→1\n",
      "\n",
      "Sex_freq字段0-1编码映射：0.789760348583878→0，0.210239651416122→1\n",
      "\n",
      "FastingBS字段0-1编码映射：0→0，1→1\n",
      "\n",
      "FastingBS_freq字段0-1编码映射：0.7668845315904139→0，0.23311546840958605→1\n",
      "\n",
      "FastingBS_count字段0-1编码映射：704→0，214→1\n",
      "\n",
      "ExerciseAngina字段0-1编码映射：N→0，Y→1\n",
      "\n",
      "Sex字段0-1编码映射：M→0，F→1\n"
     ]
    }
   ],
   "source": [
    "train_df_encoded = train_df_selected.copy()\n",
    "for col in binary_cols:\n",
    "    # 获取该字段的两个唯一值\n",
    "    vals = train_df_selected[col].unique()\n",
    "    # 映射为0和1（将第一个值映射为0，第二个值映射为1）\n",
    "    train_df_encoded[col] = train_df_encoded[col].map({vals[0]: 0, vals[1]: 1})\n",
    "    print(f\"\\n{col}字段0-1编码映射：{vals[0]}→0，{vals[1]}→1\")"
   ]
  },
  {
   "cell_type": "markdown",
   "metadata": {},
   "source": [
    "#### 4.3.3 多分类字段进行独热编码"
   ]
  },
  {
   "cell_type": "code",
   "execution_count": 122,
   "metadata": {},
   "outputs": [],
   "source": [
    "# 3. 多分类字段进行独热编码\n",
    "train_df_encoded = pd.get_dummies(train_df_encoded, columns=multi_cols, prefix=multi_cols, drop_first=True)"
   ]
  },
  {
   "cell_type": "markdown",
   "metadata": {},
   "source": [
    "#### 4.3.4 展示编码前后对比（前5行）"
   ]
  },
  {
   "cell_type": "code",
   "execution_count": 123,
   "metadata": {
    "collapsed": true
   },
   "outputs": [
    {
     "name": "stdout",
     "output_type": "stream",
     "text": [
      "\n",
      "=== 编码前后数据对比（前5行） ===\n",
      "原始数据（部分字段）：\n",
      "   ST_Slope_count  ST_Slope_freq  ChestPainType_freq\n",
      "0             395       0.430283            0.188453\n",
      "1             460       0.501089            0.221133\n",
      "2             395       0.430283            0.188453\n",
      "3             460       0.501089            0.540305\n",
      "4             395       0.430283            0.221133\n",
      "\n",
      "编码后数据（部分字段）：\n",
      "   ExerciseAngina_count  ExerciseAngina_freq  Sex_count  ST_Slope_count_395  \\\n",
      "0                     0                    0          0                True   \n",
      "1                     0                    0          1               False   \n",
      "2                     0                    0          0                True   \n",
      "3                     1                    1          1               False   \n",
      "4                     0                    0          0                True   \n",
      "\n",
      "   ST_Slope_count_460  ST_Slope_freq_0.43028322440087147  \\\n",
      "0               False                               True   \n",
      "1                True                              False   \n",
      "2               False                               True   \n",
      "3                True                              False   \n",
      "4               False                               True   \n",
      "\n",
      "   ST_Slope_freq_0.5010893246187363  ChestPainType_freq_0.18845315904139434  \\\n",
      "0                             False                                    True   \n",
      "1                              True                                   False   \n",
      "2                             False                                    True   \n",
      "3                              True                                   False   \n",
      "4                             False                                   False   \n",
      "\n",
      "   ChestPainType_freq_0.22113289760348584  \\\n",
      "0                                   False   \n",
      "1                                    True   \n",
      "2                                   False   \n",
      "3                                   False   \n",
      "4                                    True   \n",
      "\n",
      "   ChestPainType_freq_0.5403050108932462  \n",
      "0                                  False  \n",
      "1                                  False  \n",
      "2                                  False  \n",
      "3                                   True  \n",
      "4                                  False  \n"
     ]
    }
   ],
   "source": [
    "print(\"\\n=== 编码前后数据对比（前5行） ===\")\n",
    "print(\"原始数据（部分字段）：\")\n",
    "print(train_df_selected[categorical_cols_features[:3]].head())\n",
    "\n",
    "print(\"\\n编码后数据（部分字段）：\")\n",
    "# 选取部分编码后的字段展示\n",
    "encoded_sample_cols = binary_cols[:3] + [col for col in train_df_encoded.columns if any(col.startswith(p) for p in multi_cols[:3])]\n",
    "print(train_df_encoded[encoded_sample_cols].head())"
   ]
  },
  {
   "cell_type": "markdown",
   "metadata": {},
   "source": [
    "###  4.4 特征工程前后特征数量对比"
   ]
  },
  {
   "cell_type": "code",
   "execution_count": 124,
   "metadata": {},
   "outputs": [
    {
     "name": "stderr",
     "output_type": "stream",
     "text": [
      "C:\\Users\\Man\\AppData\\Local\\Temp\\ipykernel_4720\\969603320.py:8: FutureWarning: \n",
      "\n",
      "Passing `palette` without assigning `hue` is deprecated and will be removed in v0.14.0. Assign the `x` variable to `hue` and set `legend=False` for the same effect.\n",
      "\n",
      "  sns.barplot(\n"
     ]
    },
    {
     "data": {
      "image/png": "[encoded data removed]",
      "text/plain": [
       "<Figure size 1200x600 with 1 Axes>"
      ]
     },
     "metadata": {},
     "output_type": "display_data"
    }
   ],
   "source": [
    "pre_process_features = train_data.shape[1]\n",
    "post_encoding_features = train_df_encoded.shape[1]\n",
    "post_selection_features = train_df_selected.shape[1]\n",
    "\n",
    "plt.figure(figsize=(12, 6))\n",
    "\n",
    "\n",
    "sns.barplot(\n",
    "    x=['原始特征', '特征选择后', '编码后特征'],  # x轴：数据处理阶段\n",
    "    y=[pre_process_features, post_selection_features, post_encoding_features],  # y轴：特征数量\n",
    "    palette='Set2',  \n",
    ")\n",
    "plt.title('数据处理各阶段特征数量对比', fontsize=14, pad=20)  # pad：标题与图表间距\n",
    "plt.ylabel('特征数量', fontsize=12)  \n",
    "plt.ylim(0, max([pre_process_features, post_encoding_features, post_selection_features]) + 10)  # 预留标签空间\n",
    "\n",
    "# 为每个条形添加“特征数量”标签（避免标签超出画布）\n",
    "for i, v in enumerate([pre_process_features, post_selection_features, post_encoding_features]):\n",
    "    plt.text(\n",
    "        i, v + 2,  # 标签位置：x=条形索引，y=条形顶部+2（避免与条形重叠）\n",
    "        str(v),    # 标签内容：特征数量\n",
    "        ha='center', fontsize=11  # 居中对齐，放大字体\n",
    "    )\n",
    "\n",
    "plt.tight_layout()  # 自动调整布局，防止标签被截断\n",
    "plt.show()"
   ]
  },
  {
   "cell_type": "code",
   "execution_count": null,
   "metadata": {},
   "outputs": [],
   "source": []
  },
  {
   "cell_type": "markdown",
   "metadata": {},
   "source": [
    "## 五、数据验证"
   ]
  },
  {
   "cell_type": "code",
   "execution_count": 125,
   "metadata": {},
   "outputs": [],
   "source": [
    "from sklearn.model_selection import train_test_split   # 从sklearn导入数据集分割工具\n",
    "\n",
    "X = train_df_encoded.values\n",
    "Y = y_encoded\n",
    "X_train,X_test,y_train,y_test = train_test_split(X,Y,test_size=0.2,random_state=666)   "
   ]
  },
  {
   "cell_type": "code",
   "execution_count": 126,
   "metadata": {},
   "outputs": [
    {
     "name": "stdout",
     "output_type": "stream",
     "text": [
      "决策树准确率： 0.8097826086956522\n",
      "测试集召回率：0.8350\n"
     ]
    }
   ],
   "source": [
    "from sklearn.tree import DecisionTreeClassifier\n",
    "from sklearn.model_selection import GridSearchCV   # 导入网格搜索工具\n",
    "from sklearn.metrics import accuracy_score, recall_score\n",
    "\n",
    "\n",
    "# 定义参数网格，用于网格搜索\n",
    "param_grid_dt = {\n",
    "    'criterion': ['gini','entropy'],  # 划分标准：基尼不纯度或信息增益\n",
    "    'max_depth': [i for i in range(1,10)],  # 树的最大深度\n",
    "}\n",
    "dt_clf = DecisionTreeClassifier(random_state=42)   # 创建决策树分类器实例\n",
    "grid_search_dt = GridSearchCV(dt_clf, param_grid_dt)  # 创建网格搜索实例\n",
    "grid_search_dt.fit(X_train, y_train)  # 在训练集上执行网格搜索\n",
    "dt_clf = grid_search_dt.best_estimator_  # 获取最佳模型\n",
    "# 在测试集上评估\n",
    "y_pred = dt_clf.predict(X_test)\n",
    "\n",
    "print('决策树准确率：',dt_clf.score(X_test,y_test))     # 打印最佳模型在测试集上的准确率\n",
    "print(f'测试集召回率：{recall_score(y_test, y_pred, average=\"binary\"):.4f}')  # 二分类问题"
   ]
  },
  {
   "cell_type": "code",
   "execution_count": null,
   "metadata": {},
   "outputs": [],
   "source": []
  }
 ],
 "metadata": {
  "kernelspec": {
   "display_name": "base",
   "language": "python",
   "name": "python3"
  },
  "language_info": {
   "codemirror_mode": {
    "name": "ipython",
    "version": 3
   },
   "file_extension": ".py",
   "mimetype": "text/x-python",
   "name": "python",
   "nbconvert_exporter": "python",
   "pygments_lexer": "ipython3",
   "version": "3.12.4"
  }
 },
 "nbformat": 4,
 "nbformat_minor": 2
}
